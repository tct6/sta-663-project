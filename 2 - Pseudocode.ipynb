{
 "metadata": {
  "name": "",
  "signature": "sha256:36678cdfd65e68e220faf3d53cc85c450d644c0e971bd227d49c42ba141089e3"
 },
 "nbformat": 3,
 "nbformat_minor": 0,
 "worksheets": [
  {
   "cells": [
    {
     "cell_type": "markdown",
     "metadata": {},
     "source": [
      "For a study, we denote the primary quantitative trait $Y_1$ and the secondary quantitative trait $Y_2$. $G_1$ and $G_2$ represent the genetic variables for each of the trait. Similarly, $Z_1$ and $Z_2$ are the covariates. We assume that $Y_1$ is available for all $n$ subjects while $G_1$ is only available on $n_1 (\\in n)$ sequenced subjects. Since the covariates tend represent ancestry variables, it is reasonable to assume that $Z_1$ is only available for $n_1$ sequenced subjects. Next, regarding the secondary trait we assume that $(Y_2, G_2, Z_2)$ are available on a further subset denoted $n_2$. Thus, the observed-data likelihood is \n",
      "$$\\prod_{i=1}^{n_1} P(Y_{1i}|G_{1i},Z_{1i})P(G_{1i},Z_{1i}) \\prod_{i=n_{1}+1}^n \\sum_{g,z} P(Y_1i|g,z)P(g,z) \\prod_{i=1}^{n_2}P(Y_{2i}|Y_{1i},G_{2i},Z_{2i})$$\n",
      "\n",
      "We can formulate the joint distribution of $Y_1$ and $Y_2$ through the bivariate linear regression model as:\n",
      "$$Y_1 = \\beta_1^TG_1 + \\gamma_1^TZ_1 + \\epsilon_1$$ \n",
      "$$Y_2 = \\beta_2^TG_2 + \\gamma_2^tZ_2 + \\epsilon_2$$\n",
      "where $G_1$ and $G_2$ are genotypes of individuals with $Y_1$ and $Y_2$ and ($\\epsilon_1, \\epsilon_2$) $\\sim N_2({\\bf 0},\\Sigma)$ ($\\Sigma = \\{\\sigma_{kl}: k,l=1,2\\}$). Therefore, $$Y_2 = \\delta \\tilde{Y_1} + \\beta_2^TG_2 + \\gamma_2^TZ_2 + \\tilde{\\epsilon_2}$$ where $\\delta = \\sigma_{12}/\\sigma_{11}, \\tilde{Y_1} = Y_1 - \\beta_1^TG_1 - \\gamma_1^TZ_1$, and $\\tilde{\\epsilon_2} \\sim N(0,\\tilde{\\sigma_{22}} = \\sigma_{22} - \\sigma_{12}^2/\\sigma_{11})$."
     ]
    },
    {
     "cell_type": "heading",
     "level": 1,
     "metadata": {},
     "source": [
      "Pseudocode/outline of algorithm"
     ]
    },
    {
     "cell_type": "heading",
     "level": 4,
     "metadata": {},
     "source": [
      "1. Estimating parameters for primary trait"
     ]
    },
    {
     "cell_type": "markdown",
     "metadata": {},
     "source": [
      "The parameters that we need to estimate are $(\\beta_1, \\gamma_1, \\sigma_{11})$ and $P(.,.)$. Therefore, we only need to maximize the likelihood with respect to the first 2 terms. Thus, the objective function is \n",
      "$$\\sum_{i=1}^{n_1}\\Big[\\log{P(Y_{1i}|G_{1i},Z_{1i})} + \\log{\\sum_{j=1}^m I\\Big\\{(G_{1i},Z_{1i}) = (g_j,z_j)\\Big\\}q_j} \\Big] + \\sum_{i = n_1 + 1}^n \\log{\\sum_{j=1}^m P(Y_{1i}|g_j,z_j)q_j}.$$ A nonparametric MLE approach is used to eatimate $P(.,.)$ by the discrete probabilities at $(g_1,z_1),\\dots,(g_m,z_m)$, which are the observed values of $(G_{1i},Z_{1i})$. Let $q_j$ denote the point mass at $(g_j,z_j)$. "
     ]
    },
    {
     "cell_type": "markdown",
     "metadata": {},
     "source": [
      "The maximization is done through EM algorithm. The outline of the whole method is as follows:\n",
      "- Initial values: $\\beta_1 = 0, \\gamma_1 = 0, \\sigma_{11} =$ sample variance of $Y_1 (Y_{11},\\dots,Y_{1n}), q_j = 1/m.$\n",
      "- Convergence threshold: tol $= 1e-6$.\n",
      "- The difference between the previous and current value: diff $= 0$.\n",
      "- while $d > tol:$\n",
      "    - **E-Step**: maximize parameters\n",
      "        - for i in range $(1,n_1)$, let $\\psi_{ij} = I{(G_{1i},Z_{1i}) = (g_j,z_j)}.$\n",
      "        - for i in range $(n_1 + 1,n)$, let $\\psi_{ij} = \\frac{P(Y_{1i}|g_j,z_j)q_j}{\\sum_{k=1}^m P(Y_{1i}|g_k,z_k)q_k},$ where $P(y_1|g,z) = (2\\pi\\sigma_{11})^{-1/2}\\exp{\\Big(-\\frac{(y_1 - \\beta_1^Tg - \\gamma_1^Tz)^2}{2\\sigma_{11}}\\Big)}.$\n",
      "    - **M-Step**: update parameters\n",
      "        - $\\eta =\\Big(\\sum_{i=1}^n \\sum_{j=1}^m \\psi_{ij}W_jW_j^T \\Big)^{-1}\\Big(\\sum_{i=1}^n Y_{1i}\\sum_{j=1}^m \\psi_{ij}W_j \\Big),$ where $\\eta = \\begin{bmatrix} \\beta_1 \\\\ \\gamma_1 \\end{bmatrix}, W_j = \\begin{bmatrix} g_j \\\\ z_j \\end{bmatrix}.$\n",
      "        - $\\sigma_{11} = n^{-1}\\sum_{i=1}^n \\sum_{j=1}^m \\psi_{ij}(Y_{1i} - \\eta^TW_j)^2.$\n",
      "        - $q_j = n^{-1}\\sum_{i=1}^n \\psi_{ij}, j = 1,\\dots,m.$\n",
      "- At convergence, obtain $(\\hat{\\beta}_1,\\hat{\\gamma}_1,\\hat{\\sigma}_{11},\\hat{q}_1,\\dots,\\hat{q}_m).$"
     ]
    },
    {
     "cell_type": "markdown",
     "metadata": {},
     "source": [
      "Next, I will calculate the asymptotic covariance matrix. Let $\\ell_{1ij}$ and $\\ell_{2ij}$ be the first and second derivative of $\\log{P(Y_{1i}|g_j,z_j)} + \\log{q_j}$. \n",
      "- Information marix: $Q_1 = -\\sum_{i=1}^n \\sum_{j=1}^m \\psi_{ij}\\ell_{2ij} - \\sum_{i=1}^n\\Big\\{\\sum_{j=1}^m \\psi_{ij}\\ell_{1ij}\\ell{1ij}^T - (\\sum_{j=1}^m \\psi_{ij}\\ell_{1ij})(\\sum_{j=1}^m \\psi_{ij}\\ell_{1ij})^T\\Big\\}.$\n",
      "- Since there is a constraint: $\\sum_{j=1}^m q_j = 1$, let D be the derivative matrix of $(\\beta_1,\\gamma_1,\\sigma_{11},q_1,\\dots,q_m)$ w.r.t. $(\\beta_1,\\gamma_1,\\sigma_{11},q_1,\\dots,q_{m-1})$. \n",
      "- $\\Omega_1 = F^{-1}$, where $F = D^TQ_1D$."
     ]
    },
    {
     "cell_type": "heading",
     "level": 4,
     "metadata": {},
     "source": [
      "2. Estimating parameters of secondary trait"
     ]
    },
    {
     "cell_type": "markdown",
     "metadata": {},
     "source": [
      "We obtain the parameters of the secondary trait by maximizing the last term in the likelihood. However, this is equivalent to using ordinary least square method to the observations $(Y_{2i},\\hat{Y}_{1i},G_{2i},Z_{2i})$, where $i = 1,\\dots,n_2$ and $\\hat{Y}_{1i} = Y_{1i} - \\hat{\\beta}_1^TG_{1i} - \\hat{\\gamma}_1^TZ_{1i}$. \n",
      "- $\\begin{bmatrix} \\hat{\\delta} \\\\ \\hat{\\beta}_2 \\\\ \\hat{\\gamma}_2 \\end{bmatrix} = \\Bigg(\\sum_{i=1}^{n_2} \\begin{bmatrix} \\hat{Y}_{1i} \\\\ G_{2i} \\\\ Z_{2i} \\end{bmatrix}^{\\otimes 2} \\Bigg)^{-1}\\Bigg(\\sum_{i=1}^{n_2} Y_{2i} \\begin{bmatrix} \\hat{Y}_{1i} \\\\ G_{2i} \\\\ Z_{2i} \\end{bmatrix} \\Bigg).$\n",
      "- $\\hat{\\tilde{\\sigma}}_{22} = n_2^{-1}\\sum_{i=1}^{n_2}(Y_{2i} - \\hat{\\delta}\\hat{Y}_{1i} - \\hat{\\beta}_1^TG_{2i} - \\hat{\\gamma}_2^TZ_{2i})^2.$\n",
      "- covariance matrix $\\Omega_2 = \\hat{\\tilde{\\sigma}}_{22}\\Bigg(\\sum_{i=1}^{n_2} \\begin{bmatrix} \\hat{Y}_{1i} \\\\ G_{2i} \\\\ Z_{2i} \\end{bmatrix}^{\\otimes 2} \\Bigg)^{-1} + J\\tilde{\\Omega}_1J^T,$ where J is the Jacobian matrix of $(\\hat{\\delta},\\hat{\\beta}_2,\\hat{\\gamma}_2)$ w.r.t. $(\\hat{\\beta}_2,\\hat{\\gamma}_2)$ and $\\tilde{\\Omega}_1$ is the block of $\\Omega_1$ corresponding to $(\\beta_1,\\gamma_1)$."
     ]
    },
    {
     "cell_type": "heading",
     "level": 4,
     "metadata": {},
     "source": [
      "Functions"
     ]
    },
    {
     "cell_type": "markdown",
     "metadata": {},
     "source": [
      "- def Y1_loglike(x)\n",
      "    - returns log likelihood of Y1 evaluated at x\n",
      "- def grad_Y1(x)\n",
      "    - returns the gradients of log likelihood of Y1\n",
      "- def Y2_loglike(x)\n",
      "    - returns log likelihood of Y2 evaluated at x\n",
      "- def grad_Y2(x)\n",
      "    - returns the gradients of log likelihood of Y2\n",
      "- def cond_Y1(x)\n",
      "    - returns the density of P(Y1=x|g,z) evaluated at x\n",
      "- def EM_Y1(y,g,z)\n",
      "    - returns the parameter estimates beta_1, gamma_1, sigma_11, and q's\n",
      "- def LS_Y2(y,y_hat,g,z)\n",
      "    - returns the parameter estimates beta_1, delta, gamma_2, sigma_22\n",
      "- def covar_Y1(y,g,z)\n",
      "    - returns the asymptotic covariance matrix of all parameters associated with Y1\n",
      "- def covar_Y2(y,g,z,cov_Y1)\n",
      "    - returns the asymptotic covariance matrix for all parameters associated with Y2\n"
     ]
    },
    {
     "cell_type": "heading",
     "level": 1,
     "metadata": {},
     "source": [
      "Draft of unit tests"
     ]
    },
    {
     "cell_type": "markdown",
     "metadata": {},
     "source": [
      "- EM_Y1(y,y_hat,g,z)\n",
      "    - check for matrix invertiblity \n",
      "    - check for convergence \n",
      "    - check that $\\sum_{j=1}^m q_j = 1$\n",
      "- covar_Y1 and covar_Y2\n",
      "    - check for non-negativity and symmetry\n",
      "    - check for invertibility\n",
      "    "
     ]
    },
    {
     "cell_type": "code",
     "collapsed": false,
     "input": [],
     "language": "python",
     "metadata": {},
     "outputs": []
    }
   ],
   "metadata": {}
  }
 ]
}