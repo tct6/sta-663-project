{
 "cells": [
  {
   "cell_type": "code",
   "execution_count": 1,
   "metadata": {
    "collapsed": true
   },
   "outputs": [],
   "source": [
    "import os\n",
    "import sys\n",
    "import glob\n",
    "import matplotlib.pyplot as plt\n",
    "import numpy as np\n",
    "import scipy.stats as stats\n",
    "import scipy.linalg as la\n",
    "import numpy.random as npr\n",
    "from itertools import combinations, chain\n",
    "from numpy.linalg import inv\n",
    "import sympy\n",
    "# import rpy2.robjects as ro\n",
    "# import pandas.rpy.common as com\n",
    "# from rpy2.robjects.packages import importr\n",
    "\n",
    "# base = importr('base')"
   ]
  },
  {
   "cell_type": "code",
   "execution_count": 2,
   "metadata": {
    "collapsed": true
   },
   "outputs": [],
   "source": [
    "def Y1_loglike(Y,G,Z,beta,gamma,sigma_11,q_j,n1):\n",
    "    n = Y.shape[0]\n",
    "    p = beta.shape[0]\n",
    "    c = gamma.shape[0]\n",
    "    j = len(q_j)\n",
    "    \n",
    "    sum_n1 = 0.0\n",
    "    sum_n2 = 0.0\n",
    "    sum_pdf = 0.0\n",
    "    ind_gz = np.diag([1]*n1)\n",
    "    m = n1\n",
    "    \n",
    "    for i in range(n1):\n",
    "        mu_i = np.dot(G[i,:],beta) + np.dot(Z[i,:],gamma)\n",
    "        sum_n1 += stats.norm.logpdf(Y[i,0], mu_i, np.sqrt(sigma_11)) + np.log(np.dot(q_j,ind_gz[:,i]))\n",
    "    for k in range(n1,n):\n",
    "        for j in range(m):\n",
    "            mu_j = np.dot(G[j,:],beta) + np.dot(Z[j,:],gamma)\n",
    "            sum_pdf += stats.norm.pdf(Y[k,0],mu_j,np.sqrt(sigma_11))*q_j[j]\n",
    "        sum_n2 += np.log(sum_pdf)\n",
    "    return(sum_n1 + sum_n2)"
   ]
  },
  {
   "cell_type": "code",
   "execution_count": 3,
   "metadata": {
    "collapsed": true
   },
   "outputs": [],
   "source": [
    "def EM_Y1(Y, G, Z, b_0, g_0, sigma_11_0, q_0, tol=1e-6, max_iter=1000):\n",
    "    import scipy.stats as stats\n",
    "    \n",
    "    n = Y.shape[0]\n",
    "    n1, p = G.shape\n",
    "   \n",
    "    # assume that m = n1 (m uniques pairs of observed values)\n",
    "    gz_com = [zip(l,Z.tolist()) for l in combinations(G.tolist(),len(Z))]\n",
    "    chain_gz = chain(*gz_com)\n",
    "    unique_gz = list(chain_gz)\n",
    "    m = len(unique_gz)\n",
    "    if(m == n1):\n",
    "        ind_gz = np.identity(m)      \n",
    "\n",
    "    ll_old = 0.0\n",
    "    b1 = b_0\n",
    "    g1 = g_0\n",
    "    sigma_11 = sigma_11_0\n",
    "    q = q_0\n",
    "    iters = 0\n",
    "    for iters in range(max_iter):\n",
    "        iters += 1\n",
    "        ll_new = 0.0\n",
    "        \n",
    "        # E-step\n",
    "        psi_n1 = np.identity(m)\n",
    "        psi_n2 = []\n",
    "        mus_m = np.dot(G,b1) + np.dot(Z,g1)\n",
    "        for i in range(n1,n):\n",
    "            numer = stats.norm.pdf(Y[i,0],mus_m,np.sqrt(sigma_11))\n",
    "            denom = sum(numer)\n",
    "            psi_n2 += [x/denom for x in numer]\n",
    "        psi_n = np.vstack((psi_n1,np.array(psi_n2).reshape(((n-n1),m))))\n",
    "        # M-step\n",
    "        ### update b1 and g1\n",
    "        W = np.vstack((G.T,Z.T))\n",
    "        a11 = np.dot((G**2).T,psi_n.T).sum()\n",
    "        a12 = np.dot(np.multiply(G,Z).T,psi_n.T).sum()\n",
    "        a22 = np.dot((Z**2).T,psi_n.T).sum()\n",
    "        eta_hat = np.dot(la.inv(np.array([[a11,a12],[a12,a22]])),np.dot(np.dot(W,psi_n.T),Y))\n",
    "        b1 = eta_hat[0,:]\n",
    "        g1 = eta_hat[1,:]\n",
    "\n",
    "        ### update sigma_11\n",
    "        a1 = (np.tile(Y,(1,m)) - np.tile(np.dot(eta_hat.T,W),(n,1)))**2\n",
    "        sigma_11 = (1./n)*np.dot(a1.T,psi_n).sum()\n",
    "\n",
    "        ### update q_j\n",
    "        q = (1./n)*psi_n.sum(0)\n",
    "\n",
    "        ### compute new log likelihood value\n",
    "        ll_new = Y1_loglike(Y, G, Z, b1, g1, sigma_11, q, n1)\n",
    "        if np.abs(ll_new - ll_old) < tol:\n",
    "            break\n",
    "\n",
    "        ll_old = ll_new\n",
    "    Omega_1 = Y1_covar(Y, G, Z, b1, g1, sigma_11, q, psi_n, m)\n",
    "    return(b1,g1,sigma_11,q,Omega_1)"
   ]
  },
  {
   "cell_type": "code",
   "execution_count": 4,
   "metadata": {
    "collapsed": true
   },
   "outputs": [],
   "source": [
    "def Y1_covar(Y, G, Z, b1, g1, sigma_11, q, psi_n, m):\n",
    "    n = Y.shape[0]\n",
    "    # symbolic equation 1st and 2nd derivatives of U\n",
    "    b, g, s, q_s, y_s, G_s, Z_s = sympy.symbols('b g s q_s y_s G_s Z_s')\n",
    "    U = sympy.symbols('U',cls = sympy.Function)\n",
    "    U =  -0.5*sympy.log(s) - (0.5/s)*(y_s - b*G_s - g*Z_s)**2 + sympy.log(q_s)\n",
    "    grad_sym = sympy.Matrix([b, g, s, q_s])\n",
    "    l1 = [sympy.diff(U, sym) for sym in grad_sym]\n",
    "    l2 = sympy.Matrix(sympy.hessian(U, grad_sym))\n",
    "    f_l1 = sympy.lambdify((b, g, s, q_s, y_s, G_s, Z_s), l1, 'numpy')\n",
    "    f_l2 = sympy.lambdify((b, g, s, q_s, y_s, G_s, Z_s), l2, 'numpy')\n",
    "\n",
    "    fl1_qs = sympy.lambdify(q_s, l1[3], 'numpy')\n",
    "    l1_qs = np.array(fl1_qs(q)).reshape((m,1))\n",
    "    fl2_qs = sympy.lambdify(q_s, l2[3,3], 'numpy')\n",
    "    l2_qs = np.append(np.zeros((3,m)),np.diag(fl2_qs(q)),axis=0)\n",
    "\n",
    "    part1Q = 0.0\n",
    "    part2Q = 0.0\n",
    "    part4Q = 0.0\n",
    "    for i in range(n):\n",
    "        part3Q = 0.0\n",
    "        for j in range(m):\n",
    "            l2T = f_l2(b1,g1,sigma_11,q[j],Y[i,0],G[j,0],Z[j,0])[0:3,0:3]\n",
    "            temp1 = psi_n[i,j]*np.column_stack((np.append(l2T,np.zeros((m,3)),axis=0),l2_qs))\n",
    "            part1Q += temp1\n",
    "            \n",
    "            llT = np.vstack((np.array(f_l1(b1,g1,sigma_11,q[j],Y[i,0],G[j,0],Z[j,0])[0:3]),l1_qs))\n",
    "            part2Q += psi_n[i,j]*np.dot(llT,llT.T)\n",
    "            part3Q += psi_n[i,j]*llT\n",
    "        part4Q += np.dot(part3Q,part3Q.T)\n",
    "    Q_1 = -part1Q - part2Q + part4Q\n",
    "    \n",
    "    D = np.append((np.identity(m+2)),[[0,0,0]+[-1]*(m-1)],axis=0)\n",
    "    F = np.dot(np.dot(D.T,Q_1),D)\n",
    "    Omega_1 = la.inv(F)\n",
    "    return(Omega_1)"
   ]
  },
  {
   "cell_type": "code",
   "execution_count": 5,
   "metadata": {
    "collapsed": true
   },
   "outputs": [],
   "source": [
    "def Y2_est(Y1, G1, Z1, b1, g1, Y2, G2, Z2, Omega_bg_1):\n",
    "    import statsmodels.api as sm\n",
    "    \n",
    "    n2 = Y2.shape[0]\n",
    "    Y1_hat = Y1 - np.dot(G1,b1) - np.dot(Z1,g1)\n",
    "    X = np.column_stack((Y1_hat,G2,Z2))\n",
    "    est = sm.OLS(Y2,X).fit()\n",
    "    delta, b2, g2 = est.params\n",
    "    sigma_22 = (1./n2)*((Y2 - delta*Y1_hat - np.dot(G2,b2) - np.dot(Z2,g2))**2).sum()\n",
    "    Omega_2 = Y2_covar(delta,b2,g2,sigma_22,b1,g1,Y1,Y2,G1,G2,Z1,Z2,Omega_bg_1)\n",
    "    \n",
    "    return(delta, b2, g2, sigma_22, Omega_2)"
   ]
  },
  {
   "cell_type": "code",
   "execution_count": 6,
   "metadata": {
    "collapsed": true
   },
   "outputs": [],
   "source": [
    "def Y2_covar(delta, b2, g2, sigma_22, b1, g1, Y_1, Y_2, G_1, G_2, Z_1, Z_2, Omega_bg_1):\n",
    "    import scipy.linalg as la\n",
    "    \n",
    "    Y1_hat = Y_1 - b1*G_1 - g1*Z_1\n",
    "    Y1_G2 = np.dot(Y1_hat.T,G_2)\n",
    "    Y1_Z2 = np.dot(Y1_hat.T,Z_2)\n",
    "    G2_Z2 = np.dot(G_2.T,Z_2)\n",
    "    G2_2 = np.dot(G_2.T,G_2)\n",
    "    Z2_2 = np.dot(Z_2.T,Z_2)\n",
    "    G1_Z1 = np.dot(G_1.T,Z_1)\n",
    "    U = np.array([np.dot(Y1_hat.T,Y1_hat),Y1_G2,Y1_Z2,Y1_G2,G2_2,G2_Z2,Y1_Z2,G2_Z2,Z2_2]).reshape((3,3))\n",
    "    V = np.array([np.dot(Y_2.T,Y1_hat),np.dot(Y_2.T,G_2),np.dot(Y_2.T,Z_2)]).reshape((3,1))\n",
    "    dU_b1 = np.array([-2*G_1.sum()+2*b1*G2_2+2*g1*G1_Z1,-np.dot(G_1.T,G_2),-np.dot(G_1.T,Z_2),-np.dot(G_1.T,G_2),[0],[0],\n",
    "                      -np.dot(G_1.T,Z_2),[0],[0]]).reshape((3,3))\n",
    "    dV_b1 = np.array([-np.dot(G_1.T,Y_2),[0],[0]]).reshape((3,1))\n",
    "    dU_g1 = np.array([-2*Z_1.sum()+2*g1*Z2_2+2*b1*G1_Z1,-np.dot(G_2.T,Z_1),-np.dot(Z_1.T,Z_2),\n",
    "                      -np.dot(G_2.T,Z_1),[0],[0],-np.dot(Z_1.T,Z_2),[0],[0]]).reshape((3,3))\n",
    "    dV_g1 = np.array([-np.dot(Z_1.T,Y_2),[0],[0]]).reshape((3,1))\n",
    "    \n",
    "    U_inv = la.inv(U)\n",
    "    J = np.column_stack((-np.dot(np.dot(np.dot(U_inv,dU_b1),U_inv),V) + np.dot(U_inv,dV_b1),\n",
    "              -np.dot(np.dot(np.dot(U_inv,dU_g1),U_inv),V) + np.dot(U_inv,dV_g1)))\n",
    "    \n",
    "    Omega_2 = sigma_22*U_inv + np.dot(np.dot(J,Omega_bg_1),J.T)\n",
    "    return(Omega_2)"
   ]
  },
  {
   "cell_type": "code",
   "execution_count": 7,
   "metadata": {
    "collapsed": true
   },
   "outputs": [],
   "source": [
    "### test\n",
    "npr.seed(123451)\n",
    "n_test = 250\n",
    "n1_test = 100\n",
    "m_test = n1_test\n",
    "\n",
    "Y_test = npr.normal(loc=3,scale=1,size=(n_test,1))\n",
    "G_test = npr.binomial(2, 0.45, (n1_test,1))\n",
    "Z_test = npr.normal(size=(n1_test,1))\n",
    "\n",
    "beta = np.array([0.0])\n",
    "gamma = np.array([0.0])\n",
    "s_11 = np.var(Y_test)\n",
    "q_j = np.repeat(np.array([1./m_test]),n1_test)"
   ]
  },
  {
   "cell_type": "code",
   "execution_count": 8,
   "metadata": {
    "collapsed": false
   },
   "outputs": [],
   "source": [
    "res = EM_Y1(Y_test, G_test, Z_test, beta, gamma, s_11, q_j)\n",
    "# print Y_test.shape\n",
    "# print G_test.shape\n",
    "# print Z_test.shape\n",
    "# b1 = beta\n",
    "# g1 = gamma\n",
    "# sigma_11 = s_11\n",
    "# psi_n1 = np.identity(m_test)\n",
    "# psi_n2 = []\n",
    "# mus_m = np.dot(G_test,b1) + np.dot(Z_test,g1)\n",
    "# print psi_n1.shape\n",
    "# for i in range(n1_test,n_test):\n",
    "#     numer = stats.norm.pdf(Y_test[i,0],mus_m,np.sqrt(sigma_11))\n",
    "#     denom = sum(numer)\n",
    "#     psi_n2 += [x/denom for x in numer]\n",
    "# psi_n = np.vstack((psi_n1,np.array(psi_n2).reshape(((n_test-n1_test),m_test))))\n",
    "# print psi_n.shape"
   ]
  },
  {
   "cell_type": "code",
   "execution_count": 9,
   "metadata": {
    "collapsed": true
   },
   "outputs": [],
   "source": [
    "b1 = res[0]\n",
    "g1 = res[1]\n",
    "sigma_11 = res[2]\n",
    "q = res[3]\n",
    "Omega_1 = res[4]"
   ]
  },
  {
   "cell_type": "code",
   "execution_count": 10,
   "metadata": {
    "collapsed": false
   },
   "outputs": [
    {
     "name": "stdout",
     "output_type": "stream",
     "text": [
      "1 loops, best of 3: 13 s per loop\n"
     ]
    }
   ],
   "source": [
    "%timeit EM_Y1(Y_test, G_test, Z_test, beta, gamma, s_11, q_j)"
   ]
  },
  {
   "cell_type": "code",
   "execution_count": 11,
   "metadata": {
    "collapsed": false
   },
   "outputs": [
    {
     "name": "stdout",
     "output_type": "stream",
     "text": [
      "1 loops, best of 3: 6.61 s per loop\n"
     ]
    }
   ],
   "source": [
    "psi_n1 = np.identity(m_test)\n",
    "aa = np.empty((n_test-m_test,m_test))\n",
    "aa.fill(1./m_test)\n",
    "psi_n = np.vstack((psi_n1,aa))\n",
    "%timeit Y1_covar(Y_test, G_test, Z_test, b1, g1, sigma_11, q, psi_n, m_test)"
   ]
  },
  {
   "cell_type": "code",
   "execution_count": 12,
   "metadata": {
    "collapsed": true
   },
   "outputs": [],
   "source": [
    "%load_ext line_profiler"
   ]
  },
  {
   "cell_type": "code",
   "execution_count": 13,
   "metadata": {
    "collapsed": false
   },
   "outputs": [
    {
     "name": "stdout",
     "output_type": "stream",
     "text": [
      "          1229899 function calls (1227448 primitive calls) in 6.160 seconds\n",
      "\n",
      "   Ordered by: internal time\n",
      "   List reduced from 303 to 10 due to restriction <10>\n",
      "\n",
      "   ncalls  tottime  percall  cumtime  percall filename:lineno(function)\n",
      "        1    1.752    1.752    7.056    7.056 <ipython-input-4-24b752ed7942>:1(Y1_covar)\n",
      "    25000    1.538    0.000    2.022    0.000 <string>:1(<lambda>)\n",
      "    25252    0.935    0.000    0.935    0.000 {numpy.core._dotblas.dot}\n",
      "    75002    0.488    0.000    0.566    0.000 {numpy.core.multiarray.concatenate}\n",
      "   175005    0.373    0.000    0.373    0.000 {numpy.core.multiarray.array}\n",
      "   125006    0.145    0.000    0.198    0.000 defmatrix.py:290(__array_finalize__)\n",
      "    25000    0.134    0.000    0.484    0.000 defmatrix.py:244(__new__)\n",
      "    50000    0.123    0.000    0.245    0.000 shape_base.py:60(atleast_2d)\n",
      "   227042    0.110    0.000    0.110    0.000 {isinstance}\n",
      "    25000    0.105    0.000    0.138    0.000 defmatrix.py:312(__getitem__)\n",
      "\n",
      "\n"
     ]
    }
   ],
   "source": [
    "stats = %prun -r -q Y1_covar(Y_test, G_test, Z_test, b1, g1, sigma_11, q, psi_n, m_test)\n",
    "stats.sort_stats('time').print_stats(10);"
   ]
  },
  {
   "cell_type": "code",
   "execution_count": 14,
   "metadata": {
    "collapsed": false
   },
   "outputs": [
    {
     "name": "stdout",
     "output_type": "stream",
     "text": [
      "Timer unit: 1e-06 s\n",
      "\n",
      "Total time: 8.05777 s\n",
      "File: <ipython-input-4-24b752ed7942>\n",
      "Function: Y1_covar at line 1\n",
      "\n",
      "Line #      Hits         Time  Per Hit   % Time  Line Contents\n",
      "==============================================================\n",
      "     1                                           def Y1_covar(Y, G, Z, b1, g1, sigma_11, q, psi_n, m):\n",
      "     2         1            7      7.0      0.0      n = Y.shape[0]\n",
      "     3                                               # symbolic equation 1st and 2nd derivatives of U\n",
      "     4         1          195    195.0      0.0      b, g, s, q_s, y_s, G_s, Z_s = sympy.symbols('b g s q_s y_s G_s Z_s')\n",
      "     5         1           49     49.0      0.0      U = sympy.symbols('U',cls = sympy.Function)\n",
      "     6         1          474    474.0      0.0      U =  -0.5*sympy.log(s) - (0.5/s)*(y_s - b*G_s - g*Z_s)**2 + sympy.log(q_s)\n",
      "     7         1          105    105.0      0.0      grad_sym = sympy.Matrix([b, g, s, q_s])\n",
      "     8         5         5676   1135.2      0.1      l1 = [sympy.diff(U, sym) for sym in grad_sym]\n",
      "     9         1        19463  19463.0      0.2      l2 = sympy.Matrix(sympy.hessian(U, grad_sym))\n",
      "    10         1         6896   6896.0      0.1      f_l1 = sympy.lambdify((b, g, s, q_s, y_s, G_s, Z_s), l1, 'numpy')\n",
      "    11         1        16733  16733.0      0.2      f_l2 = sympy.lambdify((b, g, s, q_s, y_s, G_s, Z_s), l2, 'numpy')\n",
      "    12                                           \n",
      "    13         1          513    513.0      0.0      fl1_qs = sympy.lambdify(q_s, l1[3], 'numpy')\n",
      "    14         1           49     49.0      0.0      l1_qs = np.array(fl1_qs(q)).reshape((m,1))\n",
      "    15         1          790    790.0      0.0      fl2_qs = sympy.lambdify(q_s, l2[3,3], 'numpy')\n",
      "    16         1           90     90.0      0.0      l2_qs = np.append(np.zeros((3,m)),np.diag(fl2_qs(q)),axis=0)\n",
      "    17                                           \n",
      "    18         1            1      1.0      0.0      part1Q = 0.0\n",
      "    19         1            1      1.0      0.0      part2Q = 0.0\n",
      "    20         1            1      1.0      0.0      part4Q = 0.0\n",
      "    21       251          597      2.4      0.0      for i in range(n):\n",
      "    22       250          373      1.5      0.0          part3Q = 0.0\n",
      "    23     25250        45207      1.8      0.6          for j in range(m):\n",
      "    24     25000      2612083    104.5     32.4              l2T = f_l2(b1,g1,sigma_11,q[j],Y[i,0],G[j,0],Z[j,0])[0:3,0:3]\n",
      "    25     25000      1498926     60.0     18.6              temp1 = psi_n[i,j]*np.column_stack((np.append(l2T,np.zeros((m,3)),axis=0),l2_qs))\n",
      "    26     25000       367931     14.7      4.6              part1Q += temp1\n",
      "    27                                                       \n",
      "    28     25000      1685539     67.4     20.9              llT = np.vstack((np.array(f_l1(b1,g1,sigma_11,q[j],Y[i,0],G[j,0],Z[j,0])[0:3]),l1_qs))\n",
      "    29     25000      1596299     63.9     19.8              part2Q += psi_n[i,j]*np.dot(llT,llT.T)\n",
      "    30     25000       181716      7.3      2.3              part3Q += psi_n[i,j]*llT\n",
      "    31       250        13426     53.7      0.2          part4Q += np.dot(part3Q,part3Q.T)\n",
      "    32         1           54     54.0      0.0      Q_1 = -part1Q - part2Q + part4Q\n",
      "    33                                               \n",
      "    34         1           73     73.0      0.0      D = np.append((np.identity(m+2)),[[0,0,0]+[-1]*(m-1)],axis=0)\n",
      "    35         1         3881   3881.0      0.0      F = np.dot(np.dot(D.T,Q_1),D)\n",
      "    36         1          626    626.0      0.0      Omega_1 = la.inv(F)\n",
      "    37         1            1      1.0      0.0      return(Omega_1)\n",
      "\n"
     ]
    }
   ],
   "source": [
    "lstats = %lprun -r -f Y1_covar Y1_covar(Y_test, G_test, Z_test, b1, g1, sigma_11, q, psi_n, m_test)\n",
    "lstats.print_stats()"
   ]
  },
  {
   "cell_type": "code",
   "execution_count": 15,
   "metadata": {
    "collapsed": false
   },
   "outputs": [
    {
     "name": "stdout",
     "output_type": "stream",
     "text": [
      "-0.0319117545127 0.0798058234468 -0.0290625832643 0.928320487552 [[0.005381702453469957 -0.007075259662005475 -0.0002699862522480634]\n",
      " [-0.007075259662005475 0.03368741054853071 -0.0030843721611234043]\n",
      " [-0.0002699862522480635 -0.0030843721611234043 0.01576110926792826]]\n"
     ]
    }
   ],
   "source": [
    "npr.seed(8471)\n",
    "n2_test = 50\n",
    "Y2_test = npr.normal(size=(n2_test,1))\n",
    "G2_test = npr.binomial(2, 0.4, (n2_test,1))\n",
    "Z2_test = npr.normal(size=(n2_test,1))\n",
    "\n",
    "Y1 = np.array(Y_test[0:n2_test,0]).reshape((n2_test,1))\n",
    "G1 = np.array(G_test[0:n2_test,0]).reshape((n2_test,1))\n",
    "Z1 = np.array(Z_test[0:n2_test,0]).reshape((n2_test,1))\n",
    "delta, b2, g2, sigma_22, Omega_2 = Y2_est(Y1, G1, Z1, b1.reshape((1,1)), g1.reshape((1,1)), Y2_test, G2_test, Z2_test, Omega_1[0:2,0:2])\n",
    "print delta, b2, g2, sigma_22, Omega_2"
   ]
  },
  {
   "cell_type": "code",
   "execution_count": 16,
   "metadata": {
    "collapsed": false
   },
   "outputs": [
    {
     "name": "stdout",
     "output_type": "stream",
     "text": [
      "1000 loops, best of 3: 827 µs per loop\n"
     ]
    }
   ],
   "source": [
    "%timeit Y2_est(Y1, G1, Z1, b1.reshape((1,1)), g1.reshape((1,1)), Y2_test, G2_test, Z2_test, Omega_1[0:2,0:2])"
   ]
  },
  {
   "cell_type": "code",
   "execution_count": 17,
   "metadata": {
    "collapsed": false
   },
   "outputs": [
    {
     "name": "stdout",
     "output_type": "stream",
     "text": [
      "          298 function calls (297 primitive calls) in 0.002 seconds\n",
      "\n",
      "   Ordered by: internal time\n",
      "   List reduced from 93 to 10 due to restriction <10>\n",
      "\n",
      "   ncalls  tottime  percall  cumtime  percall filename:lineno(function)\n",
      "       37    0.000    0.000    0.000    0.000 {numpy.core._dotblas.dot}\n",
      "        2    0.000    0.000    0.000    0.000 decomp_svd.py:15(svd)\n",
      "        1    0.000    0.000    0.001    0.001 <ipython-input-6-f1bd5769cec5>:1(Y2_covar)\n",
      "       13    0.000    0.000    0.000    0.000 {method 'reduce' of 'numpy.ufunc' objects}\n",
      "        1    0.000    0.000    0.000    0.000 linalg.py:1225(svd)\n",
      "        1    0.000    0.000    0.002    0.002 <ipython-input-5-d636261f0aee>:1(Y2_est)\n",
      "       23    0.000    0.000    0.000    0.000 {numpy.core.multiarray.array}\n",
      "        1    0.000    0.000    0.000    0.000 _methods.py:77(_var)\n",
      "        3    0.000    0.000    0.000    0.000 blas.py:172(find_best_blas_type)\n",
      "        2    0.000    0.000    0.000    0.000 tools.py:374(rank)\n",
      "\n",
      "\n"
     ]
    }
   ],
   "source": [
    "stats = %prun -r -q Y2_est(Y1, G1, Z1, b1.reshape((1,1)), g1.reshape((1,1)), Y2_test, G2_test, Z2_test, Omega_1[0:2,0:2])\n",
    "stats.sort_stats('time').print_stats(10);"
   ]
  },
  {
   "cell_type": "code",
   "execution_count": 18,
   "metadata": {
    "collapsed": false
   },
   "outputs": [
    {
     "name": "stdout",
     "output_type": "stream",
     "text": [
      "Timer unit: 1e-06 s\n",
      "\n",
      "Total time: 0.001536 s\n",
      "File: <ipython-input-5-d636261f0aee>\n",
      "Function: Y2_est at line 1\n",
      "\n",
      "Line #      Hits         Time  Per Hit   % Time  Line Contents\n",
      "==============================================================\n",
      "     1                                           def Y2_est(Y1, G1, Z1, b1, g1, Y2, G2, Z2, Omega_bg_1):\n",
      "     2         1            6      6.0      0.4      import statsmodels.api as sm\n",
      "     3                                               \n",
      "     4         1            3      3.0      0.2      n2 = Y2.shape[0]\n",
      "     5         1           41     41.0      2.7      Y1_hat = Y1 - np.dot(G1,b1) - np.dot(Z1,g1)\n",
      "     6         1           24     24.0      1.6      X = np.column_stack((Y1_hat,G2,Z2))\n",
      "     7         1          999    999.0     65.0      est = sm.OLS(Y2,X).fit()\n",
      "     8         1           33     33.0      2.1      delta, b2, g2 = est.params\n",
      "     9         1           43     43.0      2.8      sigma_22 = (1./n2)*((Y2 - delta*Y1_hat - np.dot(G2,b2) - np.dot(Z2,g2))**2).sum()\n",
      "    10         1          386    386.0     25.1      Omega_2 = Y2_covar(delta,b2,g2,sigma_22,b1,g1,Y1,Y2,G1,G2,Z1,Z2,Omega_bg_1)\n",
      "    11                                               \n",
      "    12         1            1      1.0      0.1      return(delta, b2, g2, sigma_22, Omega_2)\n",
      "\n"
     ]
    }
   ],
   "source": [
    "lstats = %lprun -r -f Y2_est Y2_est(Y1, G1, Z1, b1.reshape((1,1)), g1.reshape((1,1)), Y2_test, G2_test, Z2_test, Omega_1[0:2,0:2])\n",
    "lstats.print_stats()"
   ]
  },
  {
   "cell_type": "code",
   "execution_count": 19,
   "metadata": {
    "collapsed": false
   },
   "outputs": [
    {
     "name": "stdout",
     "output_type": "stream",
     "text": [
      "1000 loops, best of 3: 292 µs per loop\n"
     ]
    }
   ],
   "source": [
    "%timeit Y2_covar(delta, b2, g2, sigma_22, b1, g1, Y1, Y2_test, G1, G2_test, Z1, Z2_test, Omega_1[0:2,0:2])"
   ]
  }
 ],
 "metadata": {
  "kernelspec": {
   "display_name": "Python 2",
   "language": "python",
   "name": "python2"
  },
  "language_info": {
   "codemirror_mode": {
    "name": "ipython",
    "version": 2
   },
   "file_extension": ".py",
   "mimetype": "text/x-python",
   "name": "python",
   "nbconvert_exporter": "python",
   "pygments_lexer": "ipython2",
   "version": "2.7.9"
  }
 },
 "nbformat": 4,
 "nbformat_minor": 0
}
