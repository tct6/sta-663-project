{
 "metadata": {
  "name": "",
  "signature": "sha256:91f918974607e546bb4fd6a69b6606415098a1886bf071ce39e61dddae030d38"
 },
 "nbformat": 3,
 "nbformat_minor": 0,
 "worksheets": [
  {
   "cells": [
    {
     "cell_type": "code",
     "collapsed": false,
     "input": [
      "import os\n",
      "import sys\n",
      "import glob\n",
      "import matplotlib.pyplot as plt\n",
      "import numpy as np\n",
      "import scipy.stats as stats\n",
      "import scipy.linalg as la\n",
      "import numpy.random as npr\n",
      "# import rpy2.robjects as ro\n",
      "# import pandas.rpy.common as com\n",
      "# from rpy2.robjects.packages import importr\n",
      "\n",
      "# base = importr('base')"
     ],
     "language": "python",
     "metadata": {},
     "outputs": [],
     "prompt_number": 1
    },
    {
     "cell_type": "code",
     "collapsed": false,
     "input": [
      "def Y1_loglike(Y,G,Z,beta,gamma,sigma_11,q_j,n1):\n",
      "    n = length(Y)\n",
      "    n2 = n - n1\n",
      "    p = beta.shape[0]\n",
      "    c = gamma.shape[0]\n",
      "    j = length(q_j)\n",
      "    \n",
      "    sum_n1 = 0.0\n",
      "    sum_n_n1 = 0.0\n",
      "    sum_pdf = 0.0\n",
      "    ind_gz = np.diag([1]*n1)\n",
      "    for i in range(n1):\n",
      "        mu_i = np.dot(G[i,:],beta) + np.dot(Z[i,:],gamma)\n",
      "        part1 += stat.norm.logpdf(Y[i], mu_i, np.sqrt(sigma_11)) + np.log(sum(np.dot(q_j,ind_gz[:,i])))\n",
      "    for k in range(n1,n):\n",
      "        for j in range(m):\n",
      "            mu_j = np.dot(G[j,:],beta) + np.dot(Z[j,:],gamma)\n",
      "            sum_pdf += stat.norm.pdf(Y[k],mu_j,np.sqrt(sigma_11))*q_j[j]\n",
      "        sum_n_n1 += sum_pdf\n",
      "    return(sum_n1 + sum_n_n1)\n",
      "\n"
     ],
     "language": "python",
     "metadata": {},
     "outputs": []
    },
    {
     "cell_type": "code",
     "collapsed": false,
     "input": [
      "def EM_Y1(Y, G, Z, b_0, g_0, sigma_11_0, tol=1e-6, max_iter=1000):\n",
      "    "
     ],
     "language": "python",
     "metadata": {},
     "outputs": []
    },
    {
     "cell_type": "code",
     "collapsed": false,
     "input": [
      "npr.seed(12343)\n",
      "y = npr.normal(size=(3,10))\n",
      "print y\n",
      "print stats.multivariate_normal(0,1).pdf(y[:,0])"
     ],
     "language": "python",
     "metadata": {},
     "outputs": [
      {
       "output_type": "stream",
       "stream": "stdout",
       "text": [
        "[[-0.72378486  0.73999805  0.23203507  0.58869304 -0.59283527 -0.28176201\n",
        "   0.68227117 -1.8301636   0.5457078   0.28795003]\n",
        " [-0.4172945  -1.33636526 -1.50023238 -0.13385221  1.65803461 -2.06070433\n",
        "   0.26120132  0.9601472  -1.59066913  0.08208693]\n",
        " [ 1.09665383  0.38167682 -1.88966666 -0.24886297 -0.32754623  0.14577074\n",
        "   0.2337729   1.16512908  0.29622915 -1.52659655]]\n",
        "[ 0.30701128  0.36567662  0.2186543 ]\n"
       ]
      }
     ],
     "prompt_number": 25
    },
    {
     "cell_type": "code",
     "collapsed": false,
     "input": [
      "x = np.linspace(0, 5, 10, endpoint=False)\n",
      "print x\n",
      "y = stats.multivariate_normal.pdf(x, mean=2.5, cov=0.5)\n",
      "print y"
     ],
     "language": "python",
     "metadata": {},
     "outputs": [
      {
       "output_type": "stream",
       "stream": "stdout",
       "text": [
        "[ 0.   0.5  1.   1.5  2.   2.5  3.   3.5  4.   4.5]\n",
        "[ 0.00108914  0.01033349  0.05946514  0.20755375  0.43939129  0.56418958\n",
        "  0.43939129  0.20755375  0.05946514  0.01033349]\n"
       ]
      }
     ],
     "prompt_number": 2
    },
    {
     "cell_type": "code",
     "collapsed": false,
     "input": [
      "print np.log(stats.norm.pdf(x,2.5,np.sqrt(0.5)))\n",
      "print stats.norm.logpdf(x,2.5,np.sqrt(0.5))"
     ],
     "language": "python",
     "metadata": {},
     "outputs": [
      {
       "output_type": "stream",
       "stream": "stdout",
       "text": [
        "[-6.82236494 -4.57236494 -2.82236494 -1.57236494 -0.82236494 -0.57236494\n",
        " -0.82236494 -1.57236494 -2.82236494 -4.57236494]\n",
        "[-6.82236494 -4.57236494 -2.82236494 -1.57236494 -0.82236494 -0.57236494\n",
        " -0.82236494 -1.57236494 -2.82236494 -4.57236494]\n"
       ]
      }
     ],
     "prompt_number": 9
    },
    {
     "cell_type": "code",
     "collapsed": false,
     "input": [
      "n1=10\n",
      "print np.diag([1]*n1)"
     ],
     "language": "python",
     "metadata": {},
     "outputs": [
      {
       "output_type": "stream",
       "stream": "stdout",
       "text": [
        "[[1 0 0 0 0 0 0 0 0 0]\n",
        " [0 1 0 0 0 0 0 0 0 0]\n",
        " [0 0 1 0 0 0 0 0 0 0]\n",
        " [0 0 0 1 0 0 0 0 0 0]\n",
        " [0 0 0 0 1 0 0 0 0 0]\n",
        " [0 0 0 0 0 1 0 0 0 0]\n",
        " [0 0 0 0 0 0 1 0 0 0]\n",
        " [0 0 0 0 0 0 0 1 0 0]\n",
        " [0 0 0 0 0 0 0 0 1 0]\n",
        " [0 0 0 0 0 0 0 0 0 1]]\n"
       ]
      }
     ],
     "prompt_number": 23
    },
    {
     "cell_type": "code",
     "collapsed": false,
     "input": [],
     "language": "python",
     "metadata": {},
     "outputs": []
    }
   ],
   "metadata": {}
  }
 ]
}