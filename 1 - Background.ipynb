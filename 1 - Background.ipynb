{
 "metadata": {
  "name": "",
  "signature": "sha256:a26badd39f5e4200c924654d1aeeafa63af3f7110e71f6ea2a27fb35134be2c3"
 },
 "nbformat": 3,
 "nbformat_minor": 0,
 "worksheets": [
  {
   "cells": [
    {
     "cell_type": "heading",
     "level": 1,
     "metadata": {},
     "source": [
      "Final Project"
     ]
    },
    {
     "cell_type": "markdown",
     "metadata": {},
     "source": [
      "Paper: Quantitative trait analysis in sequencing studies under trait-dependent sampling."
     ]
    },
    {
     "cell_type": "markdown",
     "metadata": {},
     "source": [
      "Authors: Dan-Yu Lin, Donglin Zeng, and Zheng-Zheng Tang."
     ]
    },
    {
     "cell_type": "markdown",
     "metadata": {},
     "source": [
      "Background:"
     ]
    },
    {
     "cell_type": "markdown",
     "metadata": {},
     "source": [
      "Due to the high cost of whole-genome sequencing, a cost-effective strategy has been to select subjects with extreme quantitative trait values for. If such trait-dependent sampling is accounted for properly, it proves to substantially increase statistical power. The conventional approach of a standard linear regression retains its type I error rate in the absence of genetic association. However, the standard linear regression will yield biased estimates of the genetic effects in the present of genetic association. Furthermore, to gain higher statistical power, the authors combine the data of multiple studies that have common quantitative traits to have a larger sample size. Consequently, the authors propose an efficient-likelihood based methods for analyzing primary and secondary quantitative traits under trait-dependent sampling. "
     ]
    },
    {
     "cell_type": "markdown",
     "metadata": {},
     "source": [
      "The new approached is named maximum likelihood estimation (MLE). In this project, I will implement this method in Python and conduct multiply simulation studies according to the descriptions in the reference paper. I want to focus the likelihood estimation of the primary and secondary traits through the use of EM algorithm. "
     ]
    },
    {
     "cell_type": "code",
     "collapsed": false,
     "input": [],
     "language": "python",
     "metadata": {},
     "outputs": []
    }
   ],
   "metadata": {}
  }
 ]
}