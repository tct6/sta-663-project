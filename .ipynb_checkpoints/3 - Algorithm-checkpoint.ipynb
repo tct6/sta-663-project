{
 "cells": [
  {
   "cell_type": "code",
   "execution_count": 1,
   "metadata": {
    "collapsed": false
   },
   "outputs": [],
   "source": [
    "# import os\n",
    "# import sys\n",
    "# import glob\n",
    "# import matplotlib.pyplot as plt\n",
    "# import numpy as np\n",
    "# import scipy.stats as stats\n",
    "# import scipy.linalg as la\n",
    "# import numpy.random as npr\n",
    "# from itertools import combinations, chain\n",
    "# from numpy.linalg import inv\n",
    "# import sympy\n",
    "# from sets import Set\n",
    "# # import rpy2.robjects as ro\n",
    "# # import pandas.rpy.common as com\n",
    "# # from rpy2.robjects.packages import importr\n",
    "\n",
    "# # base = importr('base')"
   ]
  },
  {
   "cell_type": "code",
   "execution_count": 42,
   "metadata": {
    "collapsed": false
   },
   "outputs": [
    {
     "name": "stdout",
     "output_type": "stream",
     "text": [
      "Overwriting /home/bitnami/sta-663-project/src/QT_analysis_functions.py\n"
     ]
    }
   ],
   "source": [
    "%%file ~/sta-663-project/src/QT_analysis_functions.py\n",
    "'''\n",
    "Functions: Y1_loglike\n",
    "           EM_Y1\n",
    "           unique_pairs\n",
    "           Y1_covar\n",
    "           Y2_est\n",
    "           Y2_covar\n",
    "           MLE_TDS\n",
    "           \n",
    "All the functions necessary to estimate the parameters for primary and secondary trait under trait-dependent sampling.          \n",
    "'''\n",
    "\n",
    "def Y1_loglike(Y,G,Z,G_unique,Z_unique,beta,gamma,sigma_11,q_j,GZ_indicator):\n",
    "    '''Evaluates the log likelihood function for the primary trait.\n",
    "    Input: Y1 - primary trait (n obs)\n",
    "           G, Z - genotype and covariates (n1 obs)\n",
    "           G_unique, Z_unique - pairs of unique genotype and covariates among n1 obs (m pairs, can be at most n1)\n",
    "           beta, sigma - coefficient estimates for genotype and covariates\n",
    "           sigma_11 - variance \n",
    "           q_j - probability vectors for unique pairs of G,Z\n",
    "           GZ_indicator - a matrix (n1xm) that indicates (0 or 1) which observation corresponds to which unique pair\n",
    "    Output: returns evaluated log likelihood using the inputs.'''\n",
    "    import numpy as np\n",
    "    import scipy.stats as stats\n",
    "    n = Y.shape[0]\n",
    "    n1 = G.shape[0]\n",
    "    m = len(q_j)\n",
    "    \n",
    "    # The log likelihood funtion has 2 components: the first one involves only samples that has genotypes and covariates \n",
    "    # information\n",
    "    mu_i = np.dot(G,beta) + np.dot(Z,gamma)\n",
    "    sum_n1 = (stats.norm.logpdf(Y[0:n1,0], mu_i, np.sqrt(sigma_11)) + np.log(np.dot(q_j,GZ_indicator))).sum()\n",
    "    mu_j = np.dot(G_unique,beta) + np.dot(Z_unique,gamma)\n",
    "    sum_pdf = [(stats.norm.pdf(Y[k,0],mu_j,np.sqrt(sigma_11))*q_j).sum() for k in range(n1,n)]\n",
    "    sum_n2 = np.log(sum_pdf).sum()\n",
    "    \n",
    "    return(sum_n1 + sum_n2)\n",
    "\n",
    "\n",
    "def EM_Y1(Y, G, Z, b_0, g_0, sigma_11_0, q_0, tol=1e-6, max_iter=1000):\n",
    "    '''Performs EM algorithm on the primary trait\n",
    "    Input: Y - primary trait (n obs)\n",
    "           G, Z - genotype and covariates (n1 obs)\n",
    "           b_0, g_0, sigma_11_0, q_0 - initial values for the parameters to be estimated\n",
    "    Output: returns the estimates for beta, gamma, sigma_11, q, and covariance matrix'''\n",
    "    import scipy.stats as stats\n",
    "    import numpy as np\n",
    "    import scipy.linalg as la\n",
    "    \n",
    "    n = Y.shape[0]\n",
    "    n1, p = G.shape\n",
    "   \n",
    "    # m unique pairs of observed values, ind_gz is a n1 x m array\n",
    "    ind_gz, G_uni, Z_uni = unique_pairs(G, Z)   \n",
    "    m = ind_gz.shape[1]\n",
    "    \n",
    "    ll_old = 0.0\n",
    "    b1 = b_0\n",
    "    g1 = g_0\n",
    "    sigma_11 = sigma_11_0\n",
    "    q = q_0\n",
    "    iters = 0\n",
    "    for iters in range(max_iter):\n",
    "        iters += 1\n",
    "        ll_new = 0.0\n",
    "        \n",
    "        # E-step\n",
    "        psi_n2 = []\n",
    "        mus_m = np.dot(G_uni,b1) + np.dot(Z_uni,g1)\n",
    "        for i in range(n1,n):\n",
    "            numer = stats.norm.pdf(Y[i,0],mus_m,np.sqrt(sigma_11))\n",
    "            denom = sum(numer)\n",
    "            psi_n2 += [x/denom for x in numer]\n",
    "        psi_n = np.vstack((ind_gz,np.array(psi_n2).reshape(((n-n1),m))))\n",
    "        # M-step\n",
    "        ### update b1 and g1\n",
    "        W = np.vstack((G_uni.T,Z_uni.T))\n",
    "        a11 = np.dot((G_uni**2).T,psi_n.T).sum()\n",
    "        a12 = np.dot(np.multiply(G_uni,Z_uni).T,psi_n.T).sum()\n",
    "        a22 = np.dot((Z**2).T,psi_n.T).sum()\n",
    "        eta_hat = np.dot(la.inv(np.array([[a11,a12],[a12,a22]])),np.dot(np.dot(W,psi_n.T),Y))\n",
    "        b1 = eta_hat[0,:]\n",
    "        g1 = eta_hat[1,:]\n",
    "\n",
    "        ### update sigma_11\n",
    "        a1 = (np.tile(Y,(1,m)) - np.tile(np.dot(eta_hat.T,W),(n,1)))**2\n",
    "        sigma_11 = (1./n)*np.dot(a1.T,psi_n).sum()\n",
    "\n",
    "        ### update q_j\n",
    "        q = (1./n)*psi_n.sum(0)\n",
    "\n",
    "        ### compute new log likelihood value\n",
    "        ll_new = Y1_loglike(Y, G, Z, G_uni, Z_uni, b1, g1, sigma_11, q, ind_gz)\n",
    "        if np.abs(ll_new - ll_old) < tol:\n",
    "            break\n",
    "\n",
    "        ll_old = ll_new\n",
    "    Omega_1 = Y1_covar(Y, G, Z, b1, g1, sigma_11, q, psi_n, m)\n",
    "    return(b1,g1,sigma_11,q,Omega_1)\n",
    "\n",
    "\n",
    "def unique_pairs(G, Z):\n",
    "    '''Identifies unique pairs of genotype of covariate\n",
    "    Input: G, Z - genotype and covariates\n",
    "    Output: returns a (n1xm) indicator matrix and the unique genotype and covariate pairs'''\n",
    "    from sets import Set\n",
    "    from itertools import combinations, chain\n",
    "    import numpy as np\n",
    "    n1 = G.shape[0]\n",
    "    chain_GZ = [zip(l,list(chain(*Z.tolist()))) for l in combinations(list(chain(*G.tolist())),len(Z))]\n",
    "    GZ = list(chain(*chain_GZ))\n",
    "    unique_gz = list(Set(GZ))\n",
    "    dict_gz = dict(zip(iter(unique_gz),range(len(unique_gz))))\n",
    "    gz_value_frm_dict = [dict_gz[l] for l in GZ]\n",
    "\n",
    "    m = len(unique_gz)\n",
    "\n",
    "    if(m == n1):\n",
    "        ind_gz = np.identity(m)      \n",
    "    else:\n",
    "        ind_gz = np.zeros((n1_test,len(unique_gz)))\n",
    "        for r in range(ind_gz.shape[0]):\n",
    "            ind_gz[r,gz_value_frm_dict[r]] = 1 \n",
    "    \n",
    "    gz_arr = np.array(unique_gz)\n",
    "    g_new = gz_arr[:,0].reshape((gz_arr.shape[0],1))\n",
    "    z_new = gz_arr[:,1].reshape((gz_arr.shape[0],1))\n",
    "\n",
    "    return ind_gz, g_new, z_new\n",
    "\n",
    "\n",
    "def Y1_covar(Y, G, Z, b1, g1, sigma_11, q, psi_n, m):\n",
    "    '''Estimates the covariance matrix of all the parameters for primary trait\n",
    "    Input: Y - primary trait (n obs)\n",
    "           G,Z - genotype and covariates\n",
    "           b1, g1, sigma_11, q - parameter estimates\n",
    "           psi_n - a (nxm) matrix of probalities for each sample with respect to each unique pairs\n",
    "           m - number of unique pairs\n",
    "    Output: returns the covariance matrix'''\n",
    "    import numpy as np\n",
    "    import scipy.linalg as la\n",
    "    import sympy\n",
    "    n = Y.shape[0]\n",
    "    # symbolic equation 1st and 2nd derivatives of U\n",
    "    b, g, s, q_s, y_s, G_s, Z_s = sympy.symbols('b g s q_s y_s G_s Z_s')\n",
    "    U = sympy.symbols('U',cls = sympy.Function)\n",
    "    U =  -0.5*sympy.log(s) - (0.5/s)*(y_s - b*G_s - g*Z_s)**2 + sympy.log(q_s)\n",
    "    grad_sym = sympy.Matrix([b, g, s, q_s])\n",
    "    l1 = [sympy.diff(U, sym) for sym in grad_sym]\n",
    "    l2 = sympy.Matrix(sympy.hessian(U, grad_sym))\n",
    "    f_l1 = sympy.lambdify((b, g, s, q_s, y_s, G_s, Z_s), l1[0:3], 'numpy')\n",
    "    f_l2 = sympy.lambdify((b, g, s, q_s, y_s, G_s, Z_s), l2[0:3,0:3], 'numpy')\n",
    "\n",
    "    fl1_qs = sympy.lambdify(q_s, l1[3], 'numpy')\n",
    "    l1_qs = np.array(fl1_qs(q)).reshape((m,1))\n",
    "    fl2_qs = sympy.lambdify(q_s, l2[3,3], 'numpy')\n",
    "    l2_qs = np.append(np.zeros((3,m)),np.diag(fl2_qs(q)),axis=0)\n",
    "\n",
    "    part1Q = 0.0\n",
    "    part2Q = 0.0\n",
    "    part4Q = 0.0\n",
    "    for i in range(n):\n",
    "        part3Q = 0.0\n",
    "        for j in range(m):\n",
    "            l2T = f_l2(b1,g1,sigma_11,q[j],Y[i,0],G[j,0],Z[j,0])\n",
    "            temp1 = psi_n[i,j]*np.column_stack((np.append(l2T,np.zeros((m,3)),axis=0),l2_qs))\n",
    "            part1Q += temp1\n",
    "            \n",
    "            llT = np.vstack((np.array(f_l1(b1,g1,sigma_11,q[j],Y[i,0],G[j,0],Z[j,0])),l1_qs))\n",
    "            part2Q += psi_n[i,j]*np.dot(llT,llT.T)\n",
    "            part3Q += psi_n[i,j]*llT\n",
    "        part4Q += np.dot(part3Q,part3Q.T)\n",
    "    Q_1 = -part1Q - part2Q + part4Q\n",
    "    \n",
    "    D = np.append((np.identity(m+2)),[[0,0,0]+[-1]*(m-1)],axis=0)\n",
    "    F = np.dot(np.dot(D.T,Q_1),D)\n",
    "    Omega_1 = la.inv(F)\n",
    "    return(Omega_1)\n",
    "\n",
    "\n",
    "def Y2_est(Y1, G1, Z1, b1, g1, Y2, G2, Z2, Omega_bg_1):\n",
    "    '''Estimates parameters and covariance matrix of secondary traits\n",
    "    Input: Y1 - primary trait (n obs)\n",
    "           G1,Z1 - genotype and covariates for primary trait (n1 obs)\n",
    "           b1, g1 - beta and gamma estimates for primary trait\n",
    "           Y2 - secondary trait (n2 < n1 obs)\n",
    "           G2,Z2 - genotype and covariates for secondary trait (n2 obs)\n",
    "           Omega_bg_1 - covariance matrix of primary trait\n",
    "    Output: returns parameter estimates (delta, b2, g2, sigma_22) and covariance matrix Omega_2 '''\n",
    "    import statsmodels.api as sm\n",
    "    import numpy as np\n",
    "    n2 = Y2.shape[0]\n",
    "    Y1_hat = Y1 - np.dot(G1,b1) - np.dot(Z1,g1)\n",
    "    X = np.column_stack((Y1_hat,G2,Z2))\n",
    "    est = sm.OLS(Y2,X).fit()\n",
    "    delta, b2, g2 = est.params\n",
    "    sigma_22 = (1./n2)*((Y2 - delta*Y1_hat - np.dot(G2,b2) - np.dot(Z2,g2))**2).sum()\n",
    "    Omega_2 = Y2_covar(delta,b2,g2,sigma_22,b1,g1,Y1,Y2,G1,G2,Z1,Z2,Omega_bg_1)\n",
    "    \n",
    "    return(delta, b2, g2, sigma_22, Omega_2)\n",
    "\n",
    "\n",
    "def Y2_covar(delta, b2, g2, sigma_22, b1, g1, Y_1, Y_2, G_1, G_2, Z_1, Z_2, Omega_bg_1):\n",
    "    '''Estimates the covariance matrix for secondary trait\n",
    "    Input: delta,b2,g2,sigma_22 - parameters estimates of secondary trait\n",
    "           b1,g1 - parameters estimates of primary trait\n",
    "           Y1 - primary trait\n",
    "           Y2 - secondary trait\n",
    "           G1,Z1 - genotype and covariates of primary trait\n",
    "           G2,Z2 - genotype and covariates of secondary trait\n",
    "           Omega_bg_1 - covariance matrix of primary trait\n",
    "    Output: returns covariance matrix of secondary trait'''\n",
    "    import scipy.linalg as la\n",
    "    import numpy as np\n",
    "    Y1_hat = Y_1 - b1*G_1 - g1*Z_1\n",
    "    Y1_G2 = np.dot(Y1_hat.T,G_2)\n",
    "    Y1_Z2 = np.dot(Y1_hat.T,Z_2)\n",
    "    G2_Z2 = np.dot(G_2.T,Z_2)\n",
    "    G2_2 = np.dot(G_2.T,G_2)\n",
    "    Z2_2 = np.dot(Z_2.T,Z_2)\n",
    "    G1_Z1 = np.dot(G_1.T,Z_1)\n",
    "    U = np.array([np.dot(Y1_hat.T,Y1_hat),Y1_G2,Y1_Z2,Y1_G2,G2_2,G2_Z2,Y1_Z2,G2_Z2,Z2_2]).reshape((3,3))\n",
    "    V = np.array([np.dot(Y_2.T,Y1_hat),np.dot(Y_2.T,G_2),np.dot(Y_2.T,Z_2)]).reshape((3,1))\n",
    "    dU_b1 = np.array([-2*G_1.sum()+2*b1*G2_2+2*g1*G1_Z1,-np.dot(G_1.T,G_2),-np.dot(G_1.T,Z_2),-np.dot(G_1.T,G_2),[0],[0],\n",
    "                      -np.dot(G_1.T,Z_2),[0],[0]]).reshape((3,3))\n",
    "    dV_b1 = np.array([-np.dot(G_1.T,Y_2),[0],[0]]).reshape((3,1))\n",
    "    dU_g1 = np.array([-2*Z_1.sum()+2*g1*Z2_2+2*b1*G1_Z1,-np.dot(G_2.T,Z_1),-np.dot(Z_1.T,Z_2),\n",
    "                      -np.dot(G_2.T,Z_1),[0],[0],-np.dot(Z_1.T,Z_2),[0],[0]]).reshape((3,3))\n",
    "    dV_g1 = np.array([-np.dot(Z_1.T,Y_2),[0],[0]]).reshape((3,1))\n",
    "    \n",
    "    U_inv = la.inv(U)\n",
    "    J = np.column_stack((-np.dot(np.dot(np.dot(U_inv,dU_b1),U_inv),V) + np.dot(U_inv,dV_b1),\n",
    "              -np.dot(np.dot(np.dot(U_inv,dU_g1),U_inv),V) + np.dot(U_inv,dV_g1)))\n",
    "    \n",
    "    Omega_2 = sigma_22*U_inv + np.dot(np.dot(J,Omega_bg_1),J.T)\n",
    "    return(Omega_2)\n",
    "\n",
    "\n",
    "def MLE_TDS(Y1, Y2, G1, G2, Z1, Z2, b_0, g_0, sigma_11_0, q_0, tol=1e-6, max_iter=1000):\n",
    "    from tabulate import tabulate\n",
    "    import numpy as np\n",
    "    \n",
    "    class tds_output():\n",
    "        pass\n",
    "    \n",
    "    res = tds_output()\n",
    "    p = G1.shape[1]\n",
    "    c = Z1.shape[1]\n",
    "    # EM algorithm to estimate parameters of primary trait\n",
    "    b1, g1, sigma_11, q, Omega_1 = EM_Y1(Y1, G1, Z1, b_0, g_0, sigma_11_0, q_0, tol, max_iter)\n",
    "    tab1 = [['beta_1',b1],['gamma_1',g1],['sigma_11',sigma_11]]\n",
    "    res.y1 = tabulate(tab1)\n",
    "    n2 = G2.shape[0]\n",
    "    Y1_2 = Y1[0:n2,0].reshape((n2,1))\n",
    "    G1_2 = G1[0:n2,0].reshape((n2,1))\n",
    "    Z1_2 = Z1[0:n2,0].reshape((n2,1))\n",
    "    # OLS to estimate parameters of secondary trait\n",
    "    delta, b2, g2, sigma_22, Omega_2 = Y2_est(Y1_2, G1_2, Z1_2, b1.reshape((1,1)), g1.reshape((1,1)), \n",
    "                                              Y2, G2, Z2, Omega_1[0:(p+c),0:(p+c)])\n",
    "    tab2 = [['delta',delta],['beta_2',b2],['gamma_2',g2],['sigma_22',sigma_22]]\n",
    "    res.y2 = tabulate(tab2)\n",
    "    res.covar_y1 = Omega_1 # covariance matrix of primary\n",
    "    res.covar_y2 = Omega_2 # covariance matrix of secondary\n",
    "    \n",
    "    return res\n",
    "\n"
   ]
  },
  {
   "cell_type": "code",
   "execution_count": 38,
   "metadata": {
    "collapsed": false
   },
   "outputs": [
    {
     "name": "stdout",
     "output_type": "stream",
     "text": [
      "Overwriting /home/bitnami/sta-663-project/src/example.py\n"
     ]
    }
   ],
   "source": [
    "%%file ~/sta-663-project/src/example.py\n",
    "\n",
    "import numpy as np\n",
    "import numpy.random as npr\n",
    "import src.QT_analysis_functions as tds\n",
    "npr.seed(123451)\n",
    "n_test = 250\n",
    "n1_test = 100\n",
    "m_test = n1_test\n",
    "\n",
    "Y_test = npr.normal(loc=3,scale=1,size=(n_test,1))\n",
    "G_test = npr.binomial(2, 0.45, (n1_test,1))\n",
    "Z_test = npr.normal(size=(n1_test,1))\n",
    "\n",
    "beta = np.array([0.0])\n",
    "gamma = np.array([0.0])\n",
    "s_11 = np.var(Y_test)\n",
    "q_j = np.repeat(np.array([1./m_test]),n1_test)\n",
    "\n",
    "n2_test = 50\n",
    "Y2_test = npr.normal(size=(n2_test,1))\n",
    "G2_test = npr.binomial(2, 0.4, (n2_test,1))\n",
    "Z2_test = npr.normal(size=(n2_test,1))\n",
    "\n",
    "res = tds.MLE_TDS(Y_test, Y2_test, G_test, G2_test, Z_test, Z2_test, beta, gamma, s_11, q_j)\n",
    "print res.y1\n",
    "print res.y2\n",
    "# print res.covar_y1 (large array)\n",
    "# print res.covar_y2\n"
   ]
  },
  {
   "cell_type": "code",
   "execution_count": 45,
   "metadata": {
    "collapsed": false
   },
   "outputs": [
    {
     "name": "stdout",
     "output_type": "stream",
     "text": [
      "Overwriting /home/bitnami/sta-663-project/src/test_QT_analysis_TDS.py\n"
     ]
    }
   ],
   "source": [
    "%%file /home/bitnami/sta-663-project/src/test_QT_analysis_TDS.py\n",
    "import numpy as np\n",
    "import numpy.random as npr\n",
    "import src.QT_analysis_functions as tds\n",
    "\n",
    "n_test = 250\n",
    "n1_test = 100\n",
    "m_test = n1_test\n",
    "\n",
    "Y_test = npr.normal(loc=3,scale=1,size=(n_test,1))\n",
    "G_test = npr.binomial(2, 0.45, (n1_test,1))\n",
    "Z_test = npr.normal(size=(n1_test,1))\n",
    "\n",
    "beta = np.array([0.0])\n",
    "gamma = np.array([0.0])\n",
    "s_11 = np.var(Y_test)\n",
    "q_j = np.repeat(np.array([1./m_test]),n1_test)\n",
    "    \n",
    "b1, g1, sigma_11, q, Omega_1 = tds.EM_Y1(Y_test, G_test, Z_test, beta, gamma, s_11, q_j)\n",
    "\n",
    "\n",
    "def test_var_non_negativity():\n",
    "    assert sigma_11 >= 0\n",
    "    \n",
    "def test_covar_sqr_matrix():\n",
    "    r, c = Omega_1.shape\n",
    "    assert r == c"
   ]
  },
  {
   "cell_type": "code",
   "execution_count": 8,
   "metadata": {
    "collapsed": false
   },
   "outputs": [],
   "source": [
    "### test\n",
    "npr.seed(123451)\n",
    "n_test = 250\n",
    "n1_test = 100\n",
    "m_test = n1_test\n",
    "\n",
    "Y_test = npr.normal(loc=3,scale=1,size=(n_test,1))\n",
    "G_test = npr.binomial(2, 0.45, (n1_test,1))\n",
    "Z_test = npr.normal(size=(n1_test,1))\n",
    "\n",
    "beta = np.array([0.0])\n",
    "gamma = np.array([0.0])\n",
    "s_11 = np.var(Y_test)\n",
    "q_j = np.repeat(np.array([1./m_test]),n1_test)\n"
   ]
  },
  {
   "cell_type": "code",
   "execution_count": 11,
   "metadata": {
    "collapsed": false
   },
   "outputs": [],
   "source": [
    "b1, g1, sigma_11, q, Omega_1 = EM_Y1(Y_test, G_test, Z_test, beta, gamma, s_11, q_j)\n"
   ]
  },
  {
   "cell_type": "code",
   "execution_count": 14,
   "metadata": {
    "collapsed": false
   },
   "outputs": [
    {
     "name": "stdout",
     "output_type": "stream",
     "text": [
      "[ 1.97605035]\n",
      "[ 0.09346345]\n",
      "477.583029523\n",
      "100\n",
      "(102, 102)\n"
     ]
    }
   ],
   "source": [
    "print b1\n",
    "print g1\n",
    "print sigma_11\n",
    "print len(q)\n",
    "print Omega_1.shape"
   ]
  },
  {
   "cell_type": "code",
   "execution_count": 15,
   "metadata": {
    "collapsed": false
   },
   "outputs": [
    {
     "name": "stdout",
     "output_type": "stream",
     "text": [
      "10 loops, best of 3: 6.51 s per loop\n"
     ]
    }
   ],
   "source": [
    "%timeit -n 10 EM_Y1(Y_test, G_test, Z_test, beta, gamma, s_11, q_j)"
   ]
  },
  {
   "cell_type": "code",
   "execution_count": 16,
   "metadata": {
    "collapsed": false
   },
   "outputs": [
    {
     "name": "stdout",
     "output_type": "stream",
     "text": [
      "10 loops, best of 3: 6.26 s per loop\n"
     ]
    }
   ],
   "source": [
    "psi_n1 = np.identity(m_test)\n",
    "aa = np.empty((n_test-m_test,m_test))\n",
    "aa.fill(1./m_test)\n",
    "psi_n = np.vstack((psi_n1,aa))\n",
    "%timeit -n 10 Y1_covar(Y_test, G_test, Z_test, b1, g1, sigma_11, q, psi_n, m_test)"
   ]
  },
  {
   "cell_type": "code",
   "execution_count": 19,
   "metadata": {
    "collapsed": false
   },
   "outputs": [
    {
     "name": "stdout",
     "output_type": "stream",
     "text": [
      "          1229899 function calls (1227448 primitive calls) in 5.791 seconds\n",
      "\n",
      "   Ordered by: internal time\n",
      "   List reduced from 303 to 10 due to restriction <10>\n",
      "\n",
      "   ncalls  tottime  percall  cumtime  percall filename:lineno(function)\n",
      "        1    1.841    1.841    7.469    7.469 <ipython-input-4-24b752ed7942>:1(Y1_covar)\n",
      "    25000    1.000    0.000    1.000    0.000 <string>:1(<lambda>)\n",
      "    25252    0.927    0.000    0.927    0.000 {numpy.core._dotblas.dot}\n",
      "    75002    0.505    0.000    0.585    0.000 {numpy.core.multiarray.concatenate}\n",
      "   175005    0.398    0.000    0.398    0.000 {numpy.core.multiarray.array}\n",
      "   125006    0.149    0.000    0.200    0.000 defmatrix.py:290(__array_finalize__)\n",
      "    25000    0.135    0.000    0.501    0.000 defmatrix.py:244(__new__)\n",
      "    50000    0.123    0.000    0.252    0.000 shape_base.py:60(atleast_2d)\n",
      "    25000    0.111    0.000    0.147    0.000 defmatrix.py:312(__getitem__)\n",
      "    25356    0.110    0.000    0.157    0.000 {built-in method __new__ of type object at 0x7f1339ab3d00}\n",
      "\n",
      "\n"
     ]
    }
   ],
   "source": [
    "stats = %prun -r -q Y1_covar(Y_test, G_test, Z_test, b1, g1, sigma_11, q, psi_n, m_test)\n",
    "stats.sort_stats('time').print_stats(10);"
   ]
  },
  {
   "cell_type": "code",
   "execution_count": 21,
   "metadata": {
    "collapsed": false
   },
   "outputs": [
    {
     "name": "stdout",
     "output_type": "stream",
     "text": [
      "Timer unit: 1e-06 s\n",
      "\n",
      "Total time: 8.03445 s\n",
      "File: <ipython-input-4-24b752ed7942>\n",
      "Function: Y1_covar at line 1\n",
      "\n",
      "Line #      Hits         Time  Per Hit   % Time  Line Contents\n",
      "==============================================================\n",
      "     1                                           def Y1_covar(Y, G, Z, b1, g1, sigma_11, q, psi_n, m):\n",
      "     2         1            6      6.0      0.0      n = Y.shape[0]\n",
      "     3                                               # symbolic equation 1st and 2nd derivatives of U\n",
      "     4         1          231    231.0      0.0      b, g, s, q_s, y_s, G_s, Z_s = sympy.symbols('b g s q_s y_s G_s Z_s')\n",
      "     5         1           52     52.0      0.0      U = sympy.symbols('U',cls = sympy.Function)\n",
      "     6         1          454    454.0      0.0      U =  -0.5*sympy.log(s) - (0.5/s)*(y_s - b*G_s - g*Z_s)**2 + sympy.log(q_s)\n",
      "     7         1          185    185.0      0.0      grad_sym = sympy.Matrix([b, g, s, q_s])\n",
      "     8         5         5877   1175.4      0.1      l1 = [sympy.diff(U, sym) for sym in grad_sym]\n",
      "     9         1        23791  23791.0      0.3      l2 = sympy.Matrix(sympy.hessian(U, grad_sym))\n",
      "    10         1         8187   8187.0      0.1      f_l1 = sympy.lambdify((b, g, s, q_s, y_s, G_s, Z_s), l1, 'numpy')\n",
      "    11         1        19599  19599.0      0.2      f_l2 = sympy.lambdify((b, g, s, q_s, y_s, G_s, Z_s), l2, 'numpy')\n",
      "    12                                           \n",
      "    13         1          500    500.0      0.0      fl1_qs = sympy.lambdify(q_s, l1[3], 'numpy')\n",
      "    14         1           55     55.0      0.0      l1_qs = np.array(fl1_qs(q)).reshape((m,1))\n",
      "    15         1          712    712.0      0.0      fl2_qs = sympy.lambdify(q_s, l2[3,3], 'numpy')\n",
      "    16         1          153    153.0      0.0      l2_qs = np.append(np.zeros((3,m)),np.diag(fl2_qs(q)),axis=0)\n",
      "    17                                           \n",
      "    18         1            2      2.0      0.0      part1Q = 0.0\n",
      "    19         1            1      1.0      0.0      part2Q = 0.0\n",
      "    20         1            2      2.0      0.0      part4Q = 0.0\n",
      "    21       251          532      2.1      0.0      for i in range(n):\n",
      "    22       250          431      1.7      0.0          part3Q = 0.0\n",
      "    23     25250        43883      1.7      0.5          for j in range(m):\n",
      "    24     25000      2641286    105.7     32.9              l2T = f_l2(b1,g1,sigma_11,q[j],Y[i,0],G[j,0],Z[j,0])[0:3,0:3]\n",
      "    25     25000      1469989     58.8     18.3              temp1 = psi_n[i,j]*np.column_stack((np.append(l2T,np.zeros((m,3)),axis=0),l2_qs))\n",
      "    26     25000       364009     14.6      4.5              part1Q += temp1\n",
      "    27                                                       \n",
      "    28     25000      1721024     68.8     21.4              llT = np.vstack((np.array(f_l1(b1,g1,sigma_11,q[j],Y[i,0],G[j,0],Z[j,0])[0:3]),l1_qs))\n",
      "    29     25000      1540238     61.6     19.2              part2Q += psi_n[i,j]*np.dot(llT,llT.T)\n",
      "    30     25000       179225      7.2      2.2              part3Q += psi_n[i,j]*llT\n",
      "    31       250        12932     51.7      0.2          part4Q += np.dot(part3Q,part3Q.T)\n",
      "    32         1           55     55.0      0.0      Q_1 = -part1Q - part2Q + part4Q\n",
      "    33                                               \n",
      "    34         1           70     70.0      0.0      D = np.append((np.identity(m+2)),[[0,0,0]+[-1]*(m-1)],axis=0)\n",
      "    35         1          399    399.0      0.0      F = np.dot(np.dot(D.T,Q_1),D)\n",
      "    36         1          570    570.0      0.0      Omega_1 = la.inv(F)\n",
      "    37         1            2      2.0      0.0      return(Omega_1)\n",
      "\n"
     ]
    }
   ],
   "source": [
    "lstats = %lprun -r -f Y1_covar Y1_covar(Y_test, G_test, Z_test, b1, g1, sigma_11, q, psi_n, m_test)\n",
    "lstats.print_stats()"
   ]
  },
  {
   "cell_type": "code",
   "execution_count": 19,
   "metadata": {
    "collapsed": false
   },
   "outputs": [],
   "source": [
    "npr.seed(1293)\n",
    "Z_2 = npr.binomial(1, 0.6, (n1_test,1))\n",
    "\n",
    "u1 = unique_pairs(G_test,Z_test)\n",
    "u2 = unique_pairs(G_test,Z_2)\n"
   ]
  },
  {
   "cell_type": "code",
   "execution_count": 20,
   "metadata": {
    "collapsed": false
   },
   "outputs": [
    {
     "name": "stdout",
     "output_type": "stream",
     "text": [
      "-0.0311297899102 0.0794339868323 -0.028947239044 0.928545677914 [[0.005420702027139554 -0.007189619883162782 -0.0002874891749474426]\n",
      " [-0.007189619883162782 0.03391333352584432 -0.0030618644276570873]\n",
      " [-0.0002874891749474428 -0.0030618644276570873 0.015765970073878376]]\n"
     ]
    }
   ],
   "source": [
    "npr.seed(8471)\n",
    "n2_test = 50\n",
    "Y2_test = npr.normal(size=(n2_test,1))\n",
    "G2_test = npr.binomial(2, 0.4, (n2_test,1))\n",
    "Z2_test = npr.normal(size=(n2_test,1))\n",
    "\n",
    "Y1 = np.array(Y_test[0:n2_test,0]).reshape((n2_test,1))\n",
    "G1 = np.array(G_test[0:n2_test,0]).reshape((n2_test,1))\n",
    "Z1 = np.array(Z_test[0:n2_test,0]).reshape((n2_test,1))\n",
    "delta, b2, g2, sigma_22, Omega_2 = Y2_est(Y1, G1, Z1, b1.reshape((1,1)), g1.reshape((1,1)), Y2_test, G2_test, Z2_test, Omega_1[0:2,0:2])\n",
    "print delta, b2, g2, sigma_22, Omega_2"
   ]
  },
  {
   "cell_type": "code",
   "execution_count": 21,
   "metadata": {
    "collapsed": false
   },
   "outputs": [
    {
     "name": "stdout",
     "output_type": "stream",
     "text": [
      "10 loops, best of 3: 820 µs per loop\n"
     ]
    }
   ],
   "source": [
    "%timeit -n 10 Y2_est(Y1, G1, Z1, b1.reshape((1,1)), g1.reshape((1,1)), Y2_test, G2_test, Z2_test, Omega_1[0:2,0:2])"
   ]
  },
  {
   "cell_type": "code",
   "execution_count": 13,
   "metadata": {
    "collapsed": false
   },
   "outputs": [
    {
     "name": "stdout",
     "output_type": "stream",
     "text": [
      "          298 function calls (297 primitive calls) in 0.001 seconds\n",
      "\n",
      "   Ordered by: internal time\n",
      "   List reduced from 93 to 10 due to restriction <10>\n",
      "\n",
      "   ncalls  tottime  percall  cumtime  percall filename:lineno(function)\n",
      "        1    0.000    0.000    0.000    0.000 <ipython-input-6-f1bd5769cec5>:1(Y2_covar)\n",
      "       37    0.000    0.000    0.000    0.000 {numpy.core._dotblas.dot}\n",
      "       13    0.000    0.000    0.000    0.000 {method 'reduce' of 'numpy.ufunc' objects}\n",
      "        2    0.000    0.000    0.000    0.000 decomp_svd.py:15(svd)\n",
      "        1    0.000    0.000    0.000    0.000 linalg.py:1225(svd)\n",
      "       23    0.000    0.000    0.000    0.000 {numpy.core.multiarray.array}\n",
      "        1    0.000    0.000    0.001    0.001 <ipython-input-5-d636261f0aee>:1(Y2_est)\n",
      "        2    0.000    0.000    0.000    0.000 tools.py:374(rank)\n",
      "        1    0.000    0.000    0.000    0.000 basic.py:314(inv)\n",
      "        1    0.000    0.000    0.000    0.000 _methods.py:77(_var)\n",
      "\n",
      "\n"
     ]
    }
   ],
   "source": [
    "stats = %prun -r -q Y2_est(Y1, G1, Z1, b1.reshape((1,1)), g1.reshape((1,1)), Y2_test, G2_test, Z2_test, Omega_1[0:2,0:2])\n",
    "stats.sort_stats('time').print_stats(10);"
   ]
  },
  {
   "cell_type": "code",
   "execution_count": 14,
   "metadata": {
    "collapsed": false
   },
   "outputs": [],
   "source": [
    "%load_ext line_profiler"
   ]
  },
  {
   "cell_type": "code",
   "execution_count": 15,
   "metadata": {
    "collapsed": false
   },
   "outputs": [
    {
     "name": "stdout",
     "output_type": "stream",
     "text": [
      "Timer unit: 1e-06 s\n",
      "\n",
      "Total time: 0.001357 s\n",
      "File: <ipython-input-5-d636261f0aee>\n",
      "Function: Y2_est at line 1\n",
      "\n",
      "Line #      Hits         Time  Per Hit   % Time  Line Contents\n",
      "==============================================================\n",
      "     1                                           def Y2_est(Y1, G1, Z1, b1, g1, Y2, G2, Z2, Omega_bg_1):\n",
      "     2         1           10     10.0      0.7      import statsmodels.api as sm\n",
      "     3                                               \n",
      "     4         1            2      2.0      0.1      n2 = Y2.shape[0]\n",
      "     5         1           28     28.0      2.1      Y1_hat = Y1 - np.dot(G1,b1) - np.dot(Z1,g1)\n",
      "     6         1           26     26.0      1.9      X = np.column_stack((Y1_hat,G2,Z2))\n",
      "     7         1          848    848.0     62.5      est = sm.OLS(Y2,X).fit()\n",
      "     8         1           32     32.0      2.4      delta, b2, g2 = est.params\n",
      "     9         1           38     38.0      2.8      sigma_22 = (1./n2)*((Y2 - delta*Y1_hat - np.dot(G2,b2) - np.dot(Z2,g2))**2).sum()\n",
      "    10         1          371    371.0     27.3      Omega_2 = Y2_covar(delta,b2,g2,sigma_22,b1,g1,Y1,Y2,G1,G2,Z1,Z2,Omega_bg_1)\n",
      "    11                                               \n",
      "    12         1            2      2.0      0.1      return(delta, b2, g2, sigma_22, Omega_2)\n",
      "\n"
     ]
    }
   ],
   "source": [
    "lstats = %lprun -r -f Y2_est Y2_est(Y1, G1, Z1, b1.reshape((1,1)), g1.reshape((1,1)), Y2_test, G2_test, Z2_test, Omega_1[0:2,0:2])\n",
    "lstats.print_stats()"
   ]
  },
  {
   "cell_type": "code",
   "execution_count": 25,
   "metadata": {
    "collapsed": false
   },
   "outputs": [
    {
     "name": "stdout",
     "output_type": "stream",
     "text": [
      "1000 loops, best of 3: 287 µs per loop\n"
     ]
    }
   ],
   "source": [
    "%timeit Y2_covar(delta, b2, g2, sigma_22, b1, g1, Y1, Y2_test, G1, G2_test, Z1, Z2_test, Omega_1[0:2,0:2])"
   ]
  },
  {
   "cell_type": "code",
   "execution_count": null,
   "metadata": {
    "collapsed": false
   },
   "outputs": [],
   "source": []
  }
 ],
 "metadata": {
  "kernelspec": {
   "display_name": "Python 2",
   "language": "python",
   "name": "python2"
  },
  "language_info": {
   "codemirror_mode": {
    "name": "ipython",
    "version": 2
   },
   "file_extension": ".py",
   "mimetype": "text/x-python",
   "name": "python",
   "nbconvert_exporter": "python",
   "pygments_lexer": "ipython2",
   "version": "2.7.9"
  }
 },
 "nbformat": 4,
 "nbformat_minor": 0
}
