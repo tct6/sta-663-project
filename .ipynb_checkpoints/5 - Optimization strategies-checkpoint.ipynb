{
 "metadata": {
  "name": "",
  "signature": "sha256:c3c493f551fe097acb48070c3f323549876942ef16a1aa0ae1606a8f08a273d2"
 },
 "nbformat": 3,
 "nbformat_minor": 0,
 "worksheets": [
  {
   "cells": [
    {
     "cell_type": "markdown",
     "metadata": {},
     "source": [
      "**Profiling** \n",
      "- The results from profiling the initial code is in 3-Algorithm. The function that performs EM for the primary trait is the slowest among all the functions. The problem probably lies in multiple for loops. \n",
      "- Half of the time used by EM_Y1 is devoted to estimating the covariance matrix which involves multiple for loops and symbolic derivatives. \n",
      "- Y2_est and Y2_covar run in micro-second which does not require optimization. "
     ]
    },
    {
     "cell_type": "markdown",
     "metadata": {},
     "source": [
      "**Optimization**\n",
      "- The first thing I want to try in optimizing EM_Y1 and Y1_covar is to vectorize any for loops if possible.\n",
      "- Next, I will look into translating these functions into C or C++ to see if it helps with speed.\n",
      "- Since the real world application of this method is on large dataset with a lot of genetic information, it is worth looking into parallelize the method. "
     ]
    },
    {
     "cell_type": "code",
     "collapsed": false,
     "input": [],
     "language": "python",
     "metadata": {},
     "outputs": []
    }
   ],
   "metadata": {}
  }
 ]
}