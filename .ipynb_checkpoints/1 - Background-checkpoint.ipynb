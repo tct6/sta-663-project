{
 "metadata": {
  "name": "",
  "signature": "sha256:9e3a8d47b30fd04bc32adc349fafbab4172a0fc6c52648b16b9d61bc1a02adbe"
 },
 "nbformat": 3,
 "nbformat_minor": 0,
 "worksheets": [
  {
   "cells": [
    {
     "cell_type": "heading",
     "level": 1,
     "metadata": {},
     "source": [
      "Final Project"
     ]
    },
    {
     "cell_type": "markdown",
     "metadata": {},
     "source": [
      "Paper: Quantitative trait analysis in sequencing studies under trait-dependent sampling."
     ]
    },
    {
     "cell_type": "markdown",
     "metadata": {},
     "source": [
      "Authors: Dan-Yu Lin, Donglin Zeng, and Zheng-Zheng Tang."
     ]
    },
    {
     "cell_type": "heading",
     "level": 4,
     "metadata": {},
     "source": [
      "Background"
     ]
    },
    {
     "cell_type": "markdown",
     "metadata": {},
     "source": [
      "Due to the high cost of whole-genome sequencing, a cost-effective strategy has been to select subjects with extreme quantitative trait values for. If such trait-dependent sampling is accounted for properly, it proves to substantially increase statistical power. The conventional approach of a standard linear regression retains its type I error rate in the absence of genetic association. However, the standard linear regression will yield biased estimates of the genetic effects in the present of genetic association. Furthermore, to gain higher statistical power, the authors combine the data of multiple studies that have common quantitative traits to have a larger sample size. Consequently, the authors propose an efficient-likelihood based methods for analyzing primary and secondary quantitative traits under trait-dependent sampling. "
     ]
    },
    {
     "cell_type": "markdown",
     "metadata": {},
     "source": [
      "The new approached is named maximum likelihood estimation (MLE). In this project, I will implement this method in Python and conduct multiply simulation studies according to the descriptions in the reference paper. I want to focus the likelihood estimation of the primary and secondary traits through the use of EM algorithm. "
     ]
    },
    {
     "cell_type": "heading",
     "level": 4,
     "metadata": {},
     "source": [
      "Methods"
     ]
    },
    {
     "cell_type": "markdown",
     "metadata": {},
     "source": [
      "For a study, we denote the primary quantitative trait $Y_1$ and the secondary quantitative trait $Y_2$. $G_1$ and $G_2$ represent the genetic variables for each of the trait. Similarly, $Z_1$ and $Z_2$ are the covariates. We assume that $Y_1$ is available for all $n$ subjects while $G_1$ is only available on $n_1 (\\in n)$ sequenced subjects. Since the covariates tend represent ancestry variables, it is reasonable to assume that $Z_1$ is only available for $n_1$ sequenced subjects. Next, regarding the secondary trait we assume that $(Y_2, G_2, Z_2)$ are available on a further subset denoted $n_2$. Thus, the observed-data likelihood is \n",
      "$$\\prod_{i=1}^{n_1} P(Y_{1i}|G_{1i},Z_{1i})P(G_{1i},Z_{1i}) \\prod_{i=n_{1}+1}^n \\sum_{g,z} P(Y_1i|g,z)P(g,z) \\prod_{i=1}^{n_2}P(Y_{2i}|Y_{1i},G_{2i},Z_{2i}).$$\n",
      "\n",
      "We can formulate the joint distribution of $Y_1$ and $Y_2$ through the bivariate linear regression model as:\n",
      "$$Y_1 = \\beta_1^TG_1 + \\gamma_1^TZ_1 + \\epsilon_1$$ \n",
      "$$Y_2 = \\beta_2^TG_2 + \\gamma_2^tZ_2 + \\epsilon_2$$\n",
      "where $G_1$ and $G_2$ are genotypes of individuals with $Y_1$ and $Y_2$ and ($\\epsilon_1, \\epsilon_2$) $\\sim N_2({\\bf 0},\\Sigma)$ ($\\Sigma = \\{\\sigma_{kl}: k,l=1,2\\}$). Therefore, $$Y_2 = \\delta \\tilde{Y_1} + \\beta_2^TG_2 + \\gamma_2^TZ_2 + \\tilde{\\epsilon_2}$$ where $\\delta = \\sigma_{12}/\\sigma_{11}, \\tilde{Y_1} = Y_1 - \\beta_1^TG_1 - \\gamma_1^TZ_1$, and $\\tilde{\\epsilon_2} \\sim N(0,\\tilde{\\sigma_{22}} = \\sigma_{22} - \\sigma_{12}^2/\\sigma_{11})$."
     ]
    },
    {
     "cell_type": "heading",
     "level": 6,
     "metadata": {},
     "source": [
      "Estimating parameters for primary trait"
     ]
    },
    {
     "cell_type": "markdown",
     "metadata": {},
     "source": [
      "We maximize the first two terms in the observed-data likelihood function to obtain the MLEs of $(\\beta_1,\\gamma_1,\\sigma_{11})$ and $P(.,.)$. A non-parametric MLE approach to estimate $P(.,.)$ is to ultilize discrete probabilities which put mass at distinct pairs the observed values $(g_1,z_1)\\dots(g_m,z_m)$ of $(G_{1i},Z_{1i})$. We denote the point mass at $(g_j,z_j)$ as $q_j$ for $j=1,\\dots,m$. The objective function which we maximize now becomes:\n",
      "$$\\sum_{i=1}^{n_1}\\Big[\\log{P(Y_{1i}|G_{1i},Z_{1i})} + \\log{\\sum_{j=1}^m I\\big\\{(G_{1i},Z_{1i}) = (g_j,z_j)\\big\\}q_j}\\Big] + \\sum_{i=n_1+1}^n log\\sum_{j=1}^m P(Y_{1i}|g_j,z_j)q_j.$$ Through EM algorithm, we estimates the parameters by iterating between the following E-step and M-step until convergence."
     ]
    },
    {
     "cell_type": "markdown",
     "metadata": {},
     "source": [
      "**E-step.** We have a $nxm$ matrix $\\psi$ which is populated as followed. For $i=1,\\dots,n_1$, $\\psi_{ij} = I\\{(G_{1i},Z_{1i}) = (g_j,z_j)\\}$ and for $i=n_i+1,\\dots,n$, we set $\\psi_{ij}$"
     ]
    },
    {
     "cell_type": "code",
     "collapsed": false,
     "input": [],
     "language": "python",
     "metadata": {},
     "outputs": []
    }
   ],
   "metadata": {}
  }
 ]
}