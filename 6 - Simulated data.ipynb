{
 "cells": [
  {
   "cell_type": "code",
   "execution_count": null,
   "metadata": {
    "collapsed": true
   },
   "outputs": [],
   "source": []
  },
  {
   "cell_type": "markdown",
   "metadata": {},
   "source": [
    "We will simulate a data set to apply the new MLE algorithm. "
   ]
  },
  {
   "cell_type": "code",
   "execution_count": 1,
   "metadata": {
    "collapsed": true
   },
   "outputs": [],
   "source": [
    "import numpy as np\n",
    "import numpy.random as npr"
   ]
  },
  {
   "cell_type": "code",
   "execution_count": 2,
   "metadata": {
    "collapsed": true
   },
   "outputs": [],
   "source": [
    "# parameters setup\n",
    "n = 5000\n",
    "n1 = 300\n",
    "n2 = 300\n",
    "maf = [0.001*a for a in range(1,11)] + [0.04]\n",
    "b1 = 1.5 \n",
    "g1 = 0.3\n",
    "b2 = 0.8\n",
    "g2 = 0.1\n",
    "s_11 = 3.4\n",
    "s_22 = 1.2"
   ]
  },
  {
   "cell_type": "code",
   "execution_count": 3,
   "metadata": {
    "collapsed": false
   },
   "outputs": [],
   "source": [
    "npr.seed(2842)\n",
    "G = npr.binomial(2, maf[0], n)\n",
    "Z = np.array([npr.normal(loc = 0) if G[i] == 0 else npr.normal(loc = 1) if G[i] == 1 else npr.normal(loc = 2) for i in range(n)]).reshape((n,))\n",
    "error = npr.multivariate_normal(mean=[0,0],cov=[[1,0.38],[0.38,1]],size=n)\n",
    "e1 = error[:,0]\n",
    "e2 = error[:,1]\n",
    "Y1 = b1*G + g1*Z + e1\n",
    "Y2 = b2*G + g2*Z + e2\n",
    "data_Y1 = np.column_stack((Y1,Y2,G,Z))\n",
    "data_Y1 = data_Y1[np.argsort(data_Y1[:,0])]\n",
    "data = np.vstack((data_Y1[0:(n2/2),:],data_Y1[(n-(n2/2)):n,:],data_Y1[(n2/2):(n-(n2/2)),:]))"
   ]
  },
  {
   "cell_type": "code",
   "execution_count": 4,
   "metadata": {
    "collapsed": true
   },
   "outputs": [],
   "source": [
    "Y1 = data[:,0].reshape((n,1))\n",
    "Y2 = data[0:n2,1].reshape((n2,1))\n",
    "G = data[0:n2,2].reshape((n2,1))\n",
    "Z = data[0:n2,3].reshape((n2,1))"
   ]
  },
  {
   "cell_type": "code",
   "execution_count": 6,
   "metadata": {
    "collapsed": false
   },
   "outputs": [],
   "source": [
    "with open(\"/home/bitnami/sta-663-project/data/Y1.txt\",\"w\") as Y1_out:\n",
    "    for i in range(Y1.shape[0]):\n",
    "        out_string = \"\"\n",
    "        out_string += str(Y1[i,0])\n",
    "        out_string += \"\\n\"\n",
    "        Y1_out.write(out_string)\n",
    "\n",
    "with open(\"/home/bitnami/sta-663-project/data/Y2.txt\",\"w\") as Y2_out:\n",
    "    for i in range(Y2.shape[0]):\n",
    "        out_string = \"\"\n",
    "        out_string += str(Y2[i,0])\n",
    "        out_string += \"\\n\"\n",
    "        Y2_out.write(out_string)\n",
    "    \n",
    "with open(\"/home/bitnami/sta-663-project/data/GZ.txt\",\"w\") as GZ_out:\n",
    "    for i in range(G.shape[0]):\n",
    "        out_string = \"\"\n",
    "        out_string += str(G[i,0])\n",
    "        out_string += \",\" + str(Z[i,0])\n",
    "        out_string += \"\\n\"\n",
    "        GZ_out.write(out_string)\n"
   ]
  },
  {
   "cell_type": "code",
   "execution_count": 7,
   "metadata": {
    "collapsed": false
   },
   "outputs": [],
   "source": [
    "import imp\n",
    "tds = imp.load_source('QT_analysis_functions', '/home/bitnami/sta-663-project/src/QT_analysis_functions.py')\n",
    "\n",
    "beta = np.array([0.0])\n",
    "gamma = np.array([0.0])\n",
    "s_11 = np.var(Y1)\n",
    "q_j = np.repeat(np.array([1./n1]),n1)\n",
    " \n",
    "res = tds.MLE_TDS(Y1, Y2, G, G, Z, Z, beta, gamma, s_11, q_j)"
   ]
  },
  {
   "cell_type": "code",
   "execution_count": 8,
   "metadata": {
    "collapsed": false
   },
   "outputs": [
    {
     "name": "stdout",
     "output_type": "stream",
     "text": [
      "--------  ------------\n",
      "beta_1      0.00956015\n",
      "gamma_1     0.00285803\n",
      "sigma_11  331.672\n",
      "--------  ------------\n"
     ]
    }
   ],
   "source": [
    "print res.y1"
   ]
  },
  {
   "cell_type": "code",
   "execution_count": 9,
   "metadata": {
    "collapsed": false
   },
   "outputs": [
    {
     "name": "stdout",
     "output_type": "stream",
     "text": [
      "--------  ----------\n",
      "delta      0.391993\n",
      "beta_2     0.037371\n",
      "gamma_2   -0.0150244\n",
      "sigma_22   0.78911\n",
      "--------  ----------\n"
     ]
    }
   ],
   "source": [
    "print res.y2"
   ]
  },
  {
   "cell_type": "code",
   "execution_count": null,
   "metadata": {
    "collapsed": true
   },
   "outputs": [],
   "source": []
  }
 ],
 "metadata": {
  "kernelspec": {
   "display_name": "Python 2",
   "language": "python",
   "name": "python2"
  },
  "language_info": {
   "codemirror_mode": {
    "name": "ipython",
    "version": 2
   },
   "file_extension": ".py",
   "mimetype": "text/x-python",
   "name": "python",
   "nbconvert_exporter": "python",
   "pygments_lexer": "ipython2",
   "version": "2.7.9"
  }
 },
 "nbformat": 4,
 "nbformat_minor": 0
}
