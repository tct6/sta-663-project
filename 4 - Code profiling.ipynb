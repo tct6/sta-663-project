{
 "cells": [
  {
   "cell_type": "code",
   "execution_count": 3,
   "metadata": {
    "collapsed": true
   },
   "outputs": [],
   "source": [
    "import numpy as np\n",
    "import numpy.random as npr\n",
    "import imp\n",
    "tds = imp.load_source('QT_analysis_functions', '/home/bitnami/sta-663-project/src/QT_analysis_functions.py')\n"
   ]
  },
  {
   "cell_type": "code",
   "execution_count": 2,
   "metadata": {
    "collapsed": true
   },
   "outputs": [],
   "source": [
    "### test\n",
    "npr.seed(123451)\n",
    "n_test = 250\n",
    "n1_test = 100\n",
    "m_test = n1_test\n",
    "\n",
    "Y_test = npr.normal(loc=3,scale=1,size=(n_test,1))\n",
    "G_test = npr.binomial(2, 0.45, (n1_test,1))\n",
    "Z_test = npr.normal(size=(n1_test,1))\n",
    "\n",
    "beta = np.array([0.0])\n",
    "gamma = np.array([0.0])\n",
    "s_11 = np.var(Y_test)\n",
    "q_j = np.repeat(np.array([1./m_test]),n1_test)\n"
   ]
  },
  {
   "cell_type": "code",
   "execution_count": 4,
   "metadata": {
    "collapsed": false
   },
   "outputs": [
    {
     "name": "stdout",
     "output_type": "stream",
     "text": [
      "10 loops, best of 3: 6.49 s per loop\n"
     ]
    }
   ],
   "source": [
    "%timeit -n 10 tds.EM_Y1(Y_test, G_test, Z_test, beta, gamma, s_11, q_j)"
   ]
  },
  {
   "cell_type": "code",
   "execution_count": 7,
   "metadata": {
    "collapsed": false
   },
   "outputs": [],
   "source": [
    "b1, g1, sigma_11, q, Omega_1 = tds.EM_Y1(Y_test, G_test, Z_test, beta, gamma, s_11, q_j)"
   ]
  },
  {
   "cell_type": "code",
   "execution_count": 8,
   "metadata": {
    "collapsed": false
   },
   "outputs": [
    {
     "name": "stdout",
     "output_type": "stream",
     "text": [
      "10 loops, best of 3: 6.33 s per loop\n"
     ]
    }
   ],
   "source": [
    "psi_n1 = np.identity(m_test)\n",
    "aa = np.empty((n_test-m_test,m_test))\n",
    "aa.fill(1./m_test)\n",
    "psi_n = np.vstack((psi_n1,aa))\n",
    "%timeit -n 10 tds.Y1_covar(Y_test, G_test, Z_test, b1, g1, sigma_11, q, psi_n, m_test)"
   ]
  },
  {
   "cell_type": "code",
   "execution_count": 9,
   "metadata": {
    "collapsed": false
   },
   "outputs": [
    {
     "name": "stdout",
     "output_type": "stream",
     "text": [
      "          1104360 function calls (1101972 primitive calls) in 4.390 seconds\n",
      "\n",
      "   Ordered by: internal time\n",
      "   List reduced from 304 to 10 due to restriction <10>\n",
      "\n",
      "   ncalls  tottime  percall  cumtime  percall filename:lineno(function)\n",
      "        1    1.674    1.674    6.792    6.792 QT_analysis_functions.py:133(Y1_covar)\n",
      "    25252    0.909    0.000    0.909    0.000 {numpy.core._dotblas.dot}\n",
      "    75002    0.486    0.000    0.564    0.000 {numpy.core.multiarray.concatenate}\n",
      "   175005    0.350    0.000    0.350    0.000 {numpy.core.multiarray.array}\n",
      "    50000    0.135    0.000    0.265    0.000 shape_base.py:60(atleast_2d)\n",
      "    25000    0.131    0.000    0.453    0.000 defmatrix.py:244(__new__)\n",
      "   100006    0.127    0.000    0.173    0.000 defmatrix.py:290(__array_finalize__)\n",
      "    25357    0.104    0.000    0.149    0.000 {built-in method __new__ of type object at 0x7f45438bcd00}\n",
      "   176967    0.094    0.000    0.094    0.000 {isinstance}\n",
      "    25000    0.085    0.000    0.469    0.000 shape_base.py:278(column_stack)\n",
      "\n",
      "\n"
     ]
    }
   ],
   "source": [
    "stats = %prun -r -q tds.Y1_covar(Y_test, G_test, Z_test, b1, g1, sigma_11, q, psi_n, m_test)\n",
    "stats.sort_stats('time').print_stats(10);"
   ]
  },
  {
   "cell_type": "code",
   "execution_count": 12,
   "metadata": {
    "collapsed": true
   },
   "outputs": [],
   "source": [
    "%load_ext line_profiler"
   ]
  },
  {
   "cell_type": "code",
   "execution_count": 13,
   "metadata": {
    "collapsed": false
   },
   "outputs": [
    {
     "name": "stdout",
     "output_type": "stream",
     "text": [
      "Timer unit: 1e-06 s\n",
      "\n",
      "Total time: 7.53782 s\n",
      "File: /home/bitnami/sta-663-project/src/QT_analysis_functions.py\n",
      "Function: Y1_covar at line 133\n",
      "\n",
      "Line #      Hits         Time  Per Hit   % Time  Line Contents\n",
      "==============================================================\n",
      "   133                                           def Y1_covar(Y, G, Z, b1, g1, sigma_11, q, psi_n, m):\n",
      "   134                                               '''Estimates the covariance matrix of all the parameters for primary trait\n",
      "   135                                               Input: Y - primary trait (n obs)\n",
      "   136                                                      G,Z - genotype and covariates\n",
      "   137                                                      b1, g1, sigma_11, q - parameter estimates\n",
      "   138                                                      psi_n - a (nxm) matrix of probalities for each sample with respect to each unique pairs\n",
      "   139                                                      m - number of unique pairs\n",
      "   140                                               Output: returns the covariance matrix'''\n",
      "   141         1            6      6.0      0.0      import numpy as np\n",
      "   142         1            4      4.0      0.0      import scipy.linalg as la\n",
      "   143         1            3      3.0      0.0      import sympy\n",
      "   144         1            5      5.0      0.0      n = Y.shape[0]\n",
      "   145                                               # symbolic equation 1st and 2nd derivatives of U\n",
      "   146         1          287    287.0      0.0      b, g, s, q_s, y_s, G_s, Z_s = sympy.symbols('b g s q_s y_s G_s Z_s')\n",
      "   147         1           70     70.0      0.0      U = sympy.symbols('U',cls = sympy.Function)\n",
      "   148         1          517    517.0      0.0      U =  -0.5*sympy.log(s) - (0.5/s)*(y_s - b*G_s - g*Z_s)**2 + sympy.log(q_s)\n",
      "   149         1          177    177.0      0.0      grad_sym = sympy.Matrix([b, g, s, q_s])\n",
      "   150         5         5244   1048.8      0.1      l1 = [sympy.diff(U, sym) for sym in grad_sym]\n",
      "   151         1        20127  20127.0      0.3      l2 = sympy.Matrix(sympy.hessian(U, grad_sym))\n",
      "   152         1         7030   7030.0      0.1      f_l1 = sympy.lambdify((b, g, s, q_s, y_s, G_s, Z_s), l1[0:3], 'numpy')\n",
      "   153         1        15765  15765.0      0.2      f_l2 = sympy.lambdify((b, g, s, q_s, y_s, G_s, Z_s), l2[0:3,0:3], 'numpy')\n",
      "   154                                           \n",
      "   155         1          449    449.0      0.0      fl1_qs = sympy.lambdify(q_s, l1[3], 'numpy')\n",
      "   156         1           76     76.0      0.0      l1_qs = np.array(fl1_qs(q)).reshape((m,1))\n",
      "   157         1          608    608.0      0.0      fl2_qs = sympy.lambdify(q_s, l2[3,3], 'numpy')\n",
      "   158         1          108    108.0      0.0      l2_qs = np.append(np.zeros((3,m)),np.diag(fl2_qs(q)),axis=0)\n",
      "   159                                           \n",
      "   160         1            2      2.0      0.0      part1Q = 0.0\n",
      "   161         1            1      1.0      0.0      part2Q = 0.0\n",
      "   162         1            1      1.0      0.0      part4Q = 0.0\n",
      "   163       251          517      2.1      0.0      for i in range(n):\n",
      "   164       250          447      1.8      0.0          part3Q = 0.0\n",
      "   165     25250        44220      1.8      0.6          for j in range(m):\n",
      "   166     25000      2246941     89.9     29.8              l2T = f_l2(b1,g1,sigma_11,q[j],Y[i,0],G[j,0],Z[j,0])\n",
      "   167     25000      1483937     59.4     19.7              temp1 = psi_n[i,j]*np.column_stack((np.append(l2T,np.zeros((m,3)),axis=0),l2_qs))\n",
      "   168     25000       357812     14.3      4.7              part1Q += temp1\n",
      "   169                                                       \n",
      "   170     25000      1631446     65.3     21.6              llT = np.vstack((np.array(f_l1(b1,g1,sigma_11,q[j],Y[i,0],G[j,0],Z[j,0])),l1_qs))\n",
      "   171     25000      1533121     61.3     20.3              part2Q += psi_n[i,j]*np.dot(llT,llT.T)\n",
      "   172     25000       172709      6.9      2.3              part3Q += psi_n[i,j]*llT\n",
      "   173       250        13426     53.7      0.2          part4Q += np.dot(part3Q,part3Q.T)\n",
      "   174         1           54     54.0      0.0      Q_1 = -part1Q - part2Q + part4Q\n",
      "   175                                               \n",
      "   176         1           82     82.0      0.0      D = np.append((np.identity(m+2)),[[0,0,0]+[-1]*(m-1)],axis=0)\n",
      "   177         1         1781   1781.0      0.0      F = np.dot(np.dot(D.T,Q_1),D)\n",
      "   178         1          843    843.0      0.0      Omega_1 = la.inv(F)\n",
      "   179         1            2      2.0      0.0      return(Omega_1)\n",
      "\n"
     ]
    }
   ],
   "source": [
    "lstats = %lprun -r -f tds.Y1_covar tds.Y1_covar(Y_test, G_test, Z_test, b1, g1, sigma_11, q, psi_n, m_test)\n",
    "lstats.print_stats()"
   ]
  },
  {
   "cell_type": "code",
   "execution_count": 14,
   "metadata": {
    "collapsed": true
   },
   "outputs": [],
   "source": [
    "npr.seed(8471)\n",
    "n2_test = 50\n",
    "Y2_test = npr.normal(size=(n2_test,1))\n",
    "G2_test = npr.binomial(2, 0.4, (n2_test,1))\n",
    "Z2_test = npr.normal(size=(n2_test,1))\n",
    "\n",
    "Y1 = np.array(Y_test[0:n2_test,0]).reshape((n2_test,1))\n",
    "G1 = np.array(G_test[0:n2_test,0]).reshape((n2_test,1))\n",
    "Z1 = np.array(Z_test[0:n2_test,0]).reshape((n2_test,1))\n"
   ]
  },
  {
   "cell_type": "code",
   "execution_count": 22,
   "metadata": {
    "collapsed": false
   },
   "outputs": [],
   "source": [
    "delta, b2, g2, sigma_22, Omega_2 = tds.Y2_est(Y1, G1, Z1, b1.reshape((1,1)), g1.reshape((1,1)), Y2_test, G2_test, Z2_test, Omega_1[0:2,0:2])\n"
   ]
  },
  {
   "cell_type": "code",
   "execution_count": 15,
   "metadata": {
    "collapsed": false
   },
   "outputs": [
    {
     "name": "stdout",
     "output_type": "stream",
     "text": [
      "The slowest run took 37.09 times longer than the fastest. This could mean that an intermediate result is being cached \n",
      "10 loops, best of 3: 840 µs per loop\n"
     ]
    }
   ],
   "source": [
    "%timeit -n 10 tds.Y2_est(Y1, G1, Z1, b1.reshape((1,1)), g1.reshape((1,1)), Y2_test, G2_test, Z2_test, Omega_1[0:2,0:2])"
   ]
  },
  {
   "cell_type": "code",
   "execution_count": 16,
   "metadata": {
    "collapsed": false
   },
   "outputs": [
    {
     "name": "stdout",
     "output_type": "stream",
     "text": [
      "          298 function calls (297 primitive calls) in 0.002 seconds\n",
      "\n",
      "   Ordered by: internal time\n",
      "   List reduced from 93 to 10 due to restriction <10>\n",
      "\n",
      "   ncalls  tottime  percall  cumtime  percall filename:lineno(function)\n",
      "       13    0.000    0.000    0.000    0.000 {method 'reduce' of 'numpy.ufunc' objects}\n",
      "        1    0.000    0.000    0.001    0.001 QT_analysis_functions.py:204(Y2_covar)\n",
      "        1    0.000    0.000    0.000    0.000 _methods.py:77(_var)\n",
      "       23    0.000    0.000    0.000    0.000 {numpy.core.multiarray.array}\n",
      "       37    0.000    0.000    0.000    0.000 {numpy.core._dotblas.dot}\n",
      "        2    0.000    0.000    0.000    0.000 decomp_svd.py:15(svd)\n",
      "        1    0.000    0.000    0.000    0.000 linalg.py:1225(svd)\n",
      "        1    0.000    0.000    0.002    0.002 QT_analysis_functions.py:182(Y2_est)\n",
      "        1    0.000    0.000    0.000    0.000 basic.py:314(inv)\n",
      "        1    0.000    0.000    0.000    0.000 linalg.py:1519(pinv)\n",
      "\n",
      "\n"
     ]
    }
   ],
   "source": [
    "stats = %prun -r -q tds.Y2_est(Y1, G1, Z1, b1.reshape((1,1)), g1.reshape((1,1)), Y2_test, G2_test, Z2_test, Omega_1[0:2,0:2])\n",
    "stats.sort_stats('time').print_stats(10);"
   ]
  },
  {
   "cell_type": "code",
   "execution_count": 19,
   "metadata": {
    "collapsed": false
   },
   "outputs": [
    {
     "name": "stdout",
     "output_type": "stream",
     "text": [
      "Timer unit: 1e-06 s\n",
      "\n",
      "Total time: 0.002212 s\n",
      "File: /home/bitnami/sta-663-project/src/QT_analysis_functions.py\n",
      "Function: Y2_est at line 182\n",
      "\n",
      "Line #      Hits         Time  Per Hit   % Time  Line Contents\n",
      "==============================================================\n",
      "   182                                           def Y2_est(Y1, G1, Z1, b1, g1, Y2, G2, Z2, Omega_bg_1):\n",
      "   183                                               '''Estimates parameters and covariance matrix of secondary traits\n",
      "   184                                               Input: Y1 - primary trait (n obs)\n",
      "   185                                                      G1,Z1 - genotype and covariates for primary trait (n1 obs)\n",
      "   186                                                      b1, g1 - beta and gamma estimates for primary trait\n",
      "   187                                                      Y2 - secondary trait (n2 < n1 obs)\n",
      "   188                                                      G2,Z2 - genotype and covariates for secondary trait (n2 obs)\n",
      "   189                                                      Omega_bg_1 - covariance matrix of primary trait\n",
      "   190                                               Output: returns parameter estimates (delta, b2, g2, sigma_22) and covariance matrix Omega_2 '''\n",
      "   191         1            7      7.0      0.3      import statsmodels.api as sm\n",
      "   192         1            2      2.0      0.1      import numpy as np\n",
      "   193         1            2      2.0      0.1      n2 = Y2.shape[0]\n",
      "   194         1           54     54.0      2.4      Y1_hat = Y1 - np.dot(G1,b1) - np.dot(Z1,g1)\n",
      "   195         1           53     53.0      2.4      X = np.column_stack((Y1_hat,G2,Z2))\n",
      "   196         1         1355   1355.0     61.3      est = sm.OLS(Y2,X).fit()\n",
      "   197         1           41     41.0      1.9      delta, b2, g2 = est.params\n",
      "   198         1           65     65.0      2.9      sigma_22 = (1./n2)*((Y2 - delta*Y1_hat - np.dot(G2,b2) - np.dot(Z2,g2))**2).sum()\n",
      "   199         1          632    632.0     28.6      Omega_2 = Y2_covar(delta,b2,g2,sigma_22,b1,g1,Y1,Y2,G1,G2,Z1,Z2,Omega_bg_1)\n",
      "   200                                               \n",
      "   201         1            1      1.0      0.0      return(delta, b2, g2, sigma_22, Omega_2)\n",
      "\n"
     ]
    }
   ],
   "source": [
    "lstats = %lprun -r -f tds.Y2_est tds.Y2_est(Y1, G1, Z1, b1.reshape((1,1)), g1.reshape((1,1)), Y2_test, G2_test, Z2_test, Omega_1[0:2,0:2])\n",
    "lstats.print_stats()"
   ]
  },
  {
   "cell_type": "code",
   "execution_count": 23,
   "metadata": {
    "collapsed": false
   },
   "outputs": [
    {
     "name": "stdout",
     "output_type": "stream",
     "text": [
      "1000 loops, best of 3: 289 µs per loop\n"
     ]
    }
   ],
   "source": [
    "%timeit tds.Y2_covar(delta, b2, g2, sigma_22, b1, g1, Y1, Y2_test, G1, G2_test, Z1, Z2_test, Omega_1[0:2,0:2])"
   ]
  },
  {
   "cell_type": "code",
   "execution_count": null,
   "metadata": {
    "collapsed": true
   },
   "outputs": [],
   "source": []
  }
 ],
 "metadata": {
  "kernelspec": {
   "display_name": "Python 2",
   "language": "python",
   "name": "python2"
  },
  "language_info": {
   "codemirror_mode": {
    "name": "ipython",
    "version": 2
   },
   "file_extension": ".py",
   "mimetype": "text/x-python",
   "name": "python",
   "nbconvert_exporter": "python",
   "pygments_lexer": "ipython2",
   "version": "2.7.9"
  }
 },
 "nbformat": 4,
 "nbformat_minor": 0
}
